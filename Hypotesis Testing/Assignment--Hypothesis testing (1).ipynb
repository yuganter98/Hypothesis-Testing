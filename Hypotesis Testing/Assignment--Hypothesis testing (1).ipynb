{
 "cells": [
  {
   "cell_type": "code",
   "execution_count": 41,
   "metadata": {},
   "outputs": [],
   "source": [
    "import pandas as pd\n",
    "import scipy\n",
    "import numpy as np\n",
    "from scipy import stats\n",
    "from scipy.stats import chi2_contingency"
   ]
  },
  {
   "cell_type": "code",
   "execution_count": 115,
   "metadata": {},
   "outputs": [
    {
     "data": {
      "text/html": [
       "<div>\n",
       "<style scoped>\n",
       "    .dataframe tbody tr th:only-of-type {\n",
       "        vertical-align: middle;\n",
       "    }\n",
       "\n",
       "    .dataframe tbody tr th {\n",
       "        vertical-align: top;\n",
       "    }\n",
       "\n",
       "    .dataframe thead th {\n",
       "        text-align: right;\n",
       "    }\n",
       "</style>\n",
       "<table border=\"1\" class=\"dataframe\">\n",
       "  <thead>\n",
       "    <tr style=\"text-align: right;\">\n",
       "      <th></th>\n",
       "      <th>Observed Values</th>\n",
       "      <th>East</th>\n",
       "      <th>West</th>\n",
       "      <th>North</th>\n",
       "      <th>South</th>\n",
       "    </tr>\n",
       "  </thead>\n",
       "  <tbody>\n",
       "    <tr>\n",
       "      <th>0</th>\n",
       "      <td>Males</td>\n",
       "      <td>50</td>\n",
       "      <td>142</td>\n",
       "      <td>131</td>\n",
       "      <td>70</td>\n",
       "    </tr>\n",
       "    <tr>\n",
       "      <th>1</th>\n",
       "      <td>Females</td>\n",
       "      <td>435</td>\n",
       "      <td>1523</td>\n",
       "      <td>1356</td>\n",
       "      <td>750</td>\n",
       "    </tr>\n",
       "  </tbody>\n",
       "</table>\n",
       "</div>"
      ],
      "text/plain": [
       "  Observed Values  East  West  North  South\n",
       "0           Males    50   142    131     70\n",
       "1         Females   435  1523   1356    750"
      ]
     },
     "execution_count": 115,
     "metadata": {},
     "output_type": "execute_result"
    }
   ],
   "source": [
    "df =pd.read_csv('D:\\\\Assignment Excelr\\\\Hypotesis Testing\\\\BuyerRatio (1).csv')\n",
    "df"
   ]
  },
  {
   "cell_type": "code",
   "execution_count": 43,
   "metadata": {},
   "outputs": [
    {
     "data": {
      "text/plain": [
       "F_onewayResult(statistic=0.3068565327605033, pvalue=0.8204060154887464)"
      ]
     },
     "execution_count": 43,
     "metadata": {},
     "output_type": "execute_result"
    }
   ],
   "source": [
    "stats.f_oneway(df.iloc[:,1],df.iloc[:,2],df.iloc[:,3],df.iloc[:,4])"
   ]
  },
  {
   "cell_type": "code",
   "execution_count": 49,
   "metadata": {},
   "outputs": [],
   "source": [
    "df.drop('Observed Values',\n",
    "  axis='columns', inplace=True)"
   ]
  },
  {
   "cell_type": "code",
   "execution_count": 50,
   "metadata": {},
   "outputs": [
    {
     "data": {
      "text/plain": [
       "array([0.42778504, 0.44100252, 0.4388981 , 0.44113554])"
      ]
     },
     "execution_count": 50,
     "metadata": {},
     "output_type": "execute_result"
    }
   ],
   "source": [
    "p=scipy.stats.ttest_1samp(df,0.5)\n",
    "p\n",
    "p=scipy.stats.ttest_1samp(df,0.5)[1]\n",
    "p"
   ]
  },
  {
   "cell_type": "code",
   "execution_count": 51,
   "metadata": {},
   "outputs": [
    {
     "data": {
      "text/plain": [
       "array([0.21389252, 0.22050126, 0.21944905, 0.22056777])"
      ]
     },
     "execution_count": 51,
     "metadata": {},
     "output_type": "execute_result"
    }
   ],
   "source": [
    "p_value=p/2\n",
    "p_value"
   ]
  },
  {
   "cell_type": "code",
   "execution_count": 52,
   "metadata": {},
   "outputs": [],
   "source": [
    "#So the p value is greater than > 0.05 so we can say that All proportion are equal"
   ]
  },
  {
   "cell_type": "code",
   "execution_count": 44,
   "metadata": {},
   "outputs": [
    {
     "data": {
      "text/html": [
       "<div>\n",
       "<style scoped>\n",
       "    .dataframe tbody tr th:only-of-type {\n",
       "        vertical-align: middle;\n",
       "    }\n",
       "\n",
       "    .dataframe tbody tr th {\n",
       "        vertical-align: top;\n",
       "    }\n",
       "\n",
       "    .dataframe thead th {\n",
       "        text-align: right;\n",
       "    }\n",
       "</style>\n",
       "<table border=\"1\" class=\"dataframe\">\n",
       "  <thead>\n",
       "    <tr style=\"text-align: right;\">\n",
       "      <th></th>\n",
       "      <th>East</th>\n",
       "      <th>West</th>\n",
       "      <th>North</th>\n",
       "      <th>South</th>\n",
       "    </tr>\n",
       "  </thead>\n",
       "  <tbody>\n",
       "    <tr>\n",
       "      <th>Ho</th>\n",
       "      <td>50</td>\n",
       "      <td>142</td>\n",
       "      <td>131</td>\n",
       "      <td>70</td>\n",
       "    </tr>\n",
       "    <tr>\n",
       "      <th>Ha</th>\n",
       "      <td>435</td>\n",
       "      <td>1523</td>\n",
       "      <td>1356</td>\n",
       "      <td>750</td>\n",
       "    </tr>\n",
       "  </tbody>\n",
       "</table>\n",
       "</div>"
      ],
      "text/plain": [
       "    East  West  North  South\n",
       "Ho    50   142    131     70\n",
       "Ha   435  1523   1356    750"
      ]
     },
     "execution_count": 44,
     "metadata": {},
     "output_type": "execute_result"
    }
   ],
   "source": [
    "chisq_prob = pd.DataFrame([[50,142,131,70],[435,1523,1356,750]],\n",
    "                         index=[\"Ho\",\"Ha\"],\n",
    "                         columns=[ \"East\", \"West\",\"North\",\"South\"])\n",
    "chisq_prob"
   ]
  },
  {
   "cell_type": "code",
   "execution_count": 45,
   "metadata": {},
   "outputs": [
    {
     "data": {
      "text/plain": [
       "(1.595945538661058,\n",
       " 0.6603094907091882,\n",
       " 3,\n",
       " array([[  42.76531299,  146.81287862,  131.11756787,   72.30424052],\n",
       "        [ 442.23468701, 1518.18712138, 1355.88243213,  747.69575948]]))"
      ]
     },
     "execution_count": 45,
     "metadata": {},
     "output_type": "execute_result"
    }
   ],
   "source": [
    "stats.chi2_contingency(chisq_prob)\n"
   ]
  },
  {
   "cell_type": "code",
   "execution_count": 46,
   "metadata": {},
   "outputs": [
    {
     "data": {
      "text/plain": [
       "0.6603094907091882"
      ]
     },
     "execution_count": 46,
     "metadata": {},
     "output_type": "execute_result"
    }
   ],
   "source": [
    "stats.chi2_contingency(chisq_prob)[1]"
   ]
  },
  {
   "cell_type": "markdown",
   "metadata": {},
   "source": [
    "# Costomer+orderform"
   ]
  },
  {
   "cell_type": "code",
   "execution_count": 53,
   "metadata": {},
   "outputs": [
    {
     "data": {
      "text/html": [
       "<div>\n",
       "<style scoped>\n",
       "    .dataframe tbody tr th:only-of-type {\n",
       "        vertical-align: middle;\n",
       "    }\n",
       "\n",
       "    .dataframe tbody tr th {\n",
       "        vertical-align: top;\n",
       "    }\n",
       "\n",
       "    .dataframe thead th {\n",
       "        text-align: right;\n",
       "    }\n",
       "</style>\n",
       "<table border=\"1\" class=\"dataframe\">\n",
       "  <thead>\n",
       "    <tr style=\"text-align: right;\">\n",
       "      <th></th>\n",
       "      <th>UnitA</th>\n",
       "      <th>UnitB</th>\n",
       "    </tr>\n",
       "  </thead>\n",
       "  <tbody>\n",
       "    <tr>\n",
       "      <th>0</th>\n",
       "      <td>6.8090</td>\n",
       "      <td>6.7703</td>\n",
       "    </tr>\n",
       "    <tr>\n",
       "      <th>1</th>\n",
       "      <td>6.4376</td>\n",
       "      <td>7.5093</td>\n",
       "    </tr>\n",
       "    <tr>\n",
       "      <th>2</th>\n",
       "      <td>6.9157</td>\n",
       "      <td>6.7300</td>\n",
       "    </tr>\n",
       "    <tr>\n",
       "      <th>3</th>\n",
       "      <td>7.3012</td>\n",
       "      <td>6.7878</td>\n",
       "    </tr>\n",
       "    <tr>\n",
       "      <th>4</th>\n",
       "      <td>7.4488</td>\n",
       "      <td>7.1522</td>\n",
       "    </tr>\n",
       "    <tr>\n",
       "      <th>5</th>\n",
       "      <td>7.3871</td>\n",
       "      <td>6.8110</td>\n",
       "    </tr>\n",
       "    <tr>\n",
       "      <th>6</th>\n",
       "      <td>6.8755</td>\n",
       "      <td>7.2212</td>\n",
       "    </tr>\n",
       "    <tr>\n",
       "      <th>7</th>\n",
       "      <td>7.0621</td>\n",
       "      <td>6.6606</td>\n",
       "    </tr>\n",
       "    <tr>\n",
       "      <th>8</th>\n",
       "      <td>6.6840</td>\n",
       "      <td>7.2402</td>\n",
       "    </tr>\n",
       "    <tr>\n",
       "      <th>9</th>\n",
       "      <td>6.8236</td>\n",
       "      <td>7.0503</td>\n",
       "    </tr>\n",
       "    <tr>\n",
       "      <th>10</th>\n",
       "      <td>7.3930</td>\n",
       "      <td>6.8810</td>\n",
       "    </tr>\n",
       "    <tr>\n",
       "      <th>11</th>\n",
       "      <td>7.5169</td>\n",
       "      <td>7.4059</td>\n",
       "    </tr>\n",
       "    <tr>\n",
       "      <th>12</th>\n",
       "      <td>6.9246</td>\n",
       "      <td>6.7652</td>\n",
       "    </tr>\n",
       "    <tr>\n",
       "      <th>13</th>\n",
       "      <td>6.9256</td>\n",
       "      <td>6.0380</td>\n",
       "    </tr>\n",
       "    <tr>\n",
       "      <th>14</th>\n",
       "      <td>6.5797</td>\n",
       "      <td>7.1581</td>\n",
       "    </tr>\n",
       "    <tr>\n",
       "      <th>15</th>\n",
       "      <td>6.8394</td>\n",
       "      <td>7.0240</td>\n",
       "    </tr>\n",
       "    <tr>\n",
       "      <th>16</th>\n",
       "      <td>6.5970</td>\n",
       "      <td>6.6672</td>\n",
       "    </tr>\n",
       "    <tr>\n",
       "      <th>17</th>\n",
       "      <td>7.2705</td>\n",
       "      <td>7.4314</td>\n",
       "    </tr>\n",
       "    <tr>\n",
       "      <th>18</th>\n",
       "      <td>7.2828</td>\n",
       "      <td>7.3070</td>\n",
       "    </tr>\n",
       "    <tr>\n",
       "      <th>19</th>\n",
       "      <td>7.3495</td>\n",
       "      <td>6.7478</td>\n",
       "    </tr>\n",
       "    <tr>\n",
       "      <th>20</th>\n",
       "      <td>6.9438</td>\n",
       "      <td>6.8889</td>\n",
       "    </tr>\n",
       "    <tr>\n",
       "      <th>21</th>\n",
       "      <td>7.1560</td>\n",
       "      <td>7.4220</td>\n",
       "    </tr>\n",
       "    <tr>\n",
       "      <th>22</th>\n",
       "      <td>6.5341</td>\n",
       "      <td>6.5217</td>\n",
       "    </tr>\n",
       "    <tr>\n",
       "      <th>23</th>\n",
       "      <td>7.2854</td>\n",
       "      <td>7.1688</td>\n",
       "    </tr>\n",
       "    <tr>\n",
       "      <th>24</th>\n",
       "      <td>6.9952</td>\n",
       "      <td>6.7594</td>\n",
       "    </tr>\n",
       "    <tr>\n",
       "      <th>25</th>\n",
       "      <td>6.8568</td>\n",
       "      <td>6.9399</td>\n",
       "    </tr>\n",
       "    <tr>\n",
       "      <th>26</th>\n",
       "      <td>7.2163</td>\n",
       "      <td>7.0133</td>\n",
       "    </tr>\n",
       "    <tr>\n",
       "      <th>27</th>\n",
       "      <td>6.6801</td>\n",
       "      <td>6.9182</td>\n",
       "    </tr>\n",
       "    <tr>\n",
       "      <th>28</th>\n",
       "      <td>6.9431</td>\n",
       "      <td>6.3346</td>\n",
       "    </tr>\n",
       "    <tr>\n",
       "      <th>29</th>\n",
       "      <td>7.0852</td>\n",
       "      <td>7.5459</td>\n",
       "    </tr>\n",
       "    <tr>\n",
       "      <th>30</th>\n",
       "      <td>6.7794</td>\n",
       "      <td>7.0992</td>\n",
       "    </tr>\n",
       "    <tr>\n",
       "      <th>31</th>\n",
       "      <td>7.2783</td>\n",
       "      <td>7.1180</td>\n",
       "    </tr>\n",
       "    <tr>\n",
       "      <th>32</th>\n",
       "      <td>7.1561</td>\n",
       "      <td>6.6965</td>\n",
       "    </tr>\n",
       "    <tr>\n",
       "      <th>33</th>\n",
       "      <td>7.3943</td>\n",
       "      <td>6.5780</td>\n",
       "    </tr>\n",
       "    <tr>\n",
       "      <th>34</th>\n",
       "      <td>6.9405</td>\n",
       "      <td>7.3875</td>\n",
       "    </tr>\n",
       "  </tbody>\n",
       "</table>\n",
       "</div>"
      ],
      "text/plain": [
       "     UnitA   UnitB\n",
       "0   6.8090  6.7703\n",
       "1   6.4376  7.5093\n",
       "2   6.9157  6.7300\n",
       "3   7.3012  6.7878\n",
       "4   7.4488  7.1522\n",
       "5   7.3871  6.8110\n",
       "6   6.8755  7.2212\n",
       "7   7.0621  6.6606\n",
       "8   6.6840  7.2402\n",
       "9   6.8236  7.0503\n",
       "10  7.3930  6.8810\n",
       "11  7.5169  7.4059\n",
       "12  6.9246  6.7652\n",
       "13  6.9256  6.0380\n",
       "14  6.5797  7.1581\n",
       "15  6.8394  7.0240\n",
       "16  6.5970  6.6672\n",
       "17  7.2705  7.4314\n",
       "18  7.2828  7.3070\n",
       "19  7.3495  6.7478\n",
       "20  6.9438  6.8889\n",
       "21  7.1560  7.4220\n",
       "22  6.5341  6.5217\n",
       "23  7.2854  7.1688\n",
       "24  6.9952  6.7594\n",
       "25  6.8568  6.9399\n",
       "26  7.2163  7.0133\n",
       "27  6.6801  6.9182\n",
       "28  6.9431  6.3346\n",
       "29  7.0852  7.5459\n",
       "30  6.7794  7.0992\n",
       "31  7.2783  7.1180\n",
       "32  7.1561  6.6965\n",
       "33  7.3943  6.5780\n",
       "34  6.9405  7.3875"
      ]
     },
     "execution_count": 53,
     "metadata": {},
     "output_type": "execute_result"
    }
   ],
   "source": [
    "df =pd.read_csv('D:\\\\Assignment Excelr\\\\Hypotesis Testing\\\\Cutlets (1).csv')\n",
    "df"
   ]
  },
  {
   "cell_type": "code",
   "execution_count": 54,
   "metadata": {},
   "outputs": [
    {
     "data": {
      "text/plain": [
       "F_onewayResult(statistic=0.5225394038913945, pvalue=0.4722394724599509)"
      ]
     },
     "execution_count": 54,
     "metadata": {},
     "output_type": "execute_result"
    }
   ],
   "source": [
    "stats.f_oneway(df.iloc[:,0],df.iloc[:,1])"
   ]
  },
  {
   "cell_type": "code",
   "execution_count": 55,
   "metadata": {},
   "outputs": [],
   "source": [
    "chisq_prob=df.values"
   ]
  },
  {
   "cell_type": "code",
   "execution_count": 56,
   "metadata": {},
   "outputs": [
    {
     "data": {
      "text/plain": [
       "array([[6.809 , 6.7703],\n",
       "       [6.4376, 7.5093],\n",
       "       [6.9157, 6.73  ],\n",
       "       [7.3012, 6.7878],\n",
       "       [7.4488, 7.1522],\n",
       "       [7.3871, 6.811 ],\n",
       "       [6.8755, 7.2212],\n",
       "       [7.0621, 6.6606],\n",
       "       [6.684 , 7.2402],\n",
       "       [6.8236, 7.0503],\n",
       "       [7.393 , 6.881 ],\n",
       "       [7.5169, 7.4059],\n",
       "       [6.9246, 6.7652],\n",
       "       [6.9256, 6.038 ],\n",
       "       [6.5797, 7.1581],\n",
       "       [6.8394, 7.024 ],\n",
       "       [6.597 , 6.6672],\n",
       "       [7.2705, 7.4314],\n",
       "       [7.2828, 7.307 ],\n",
       "       [7.3495, 6.7478],\n",
       "       [6.9438, 6.8889],\n",
       "       [7.156 , 7.422 ],\n",
       "       [6.5341, 6.5217],\n",
       "       [7.2854, 7.1688],\n",
       "       [6.9952, 6.7594],\n",
       "       [6.8568, 6.9399],\n",
       "       [7.2163, 7.0133],\n",
       "       [6.6801, 6.9182],\n",
       "       [6.9431, 6.3346],\n",
       "       [7.0852, 7.5459],\n",
       "       [6.7794, 7.0992],\n",
       "       [7.2783, 7.118 ],\n",
       "       [7.1561, 6.6965],\n",
       "       [7.3943, 6.578 ],\n",
       "       [6.9405, 7.3875]])"
      ]
     },
     "execution_count": 56,
     "metadata": {},
     "output_type": "execute_result"
    }
   ],
   "source": [
    "chisq_prob"
   ]
  },
  {
   "cell_type": "code",
   "execution_count": 57,
   "metadata": {},
   "outputs": [
    {
     "data": {
      "text/plain": [
       "(0.4542834311598112,\n",
       " 1.0,\n",
       " 34,\n",
       " array([[6.81625543, 6.76304457],\n",
       "        [7.00077565, 6.94612435],\n",
       "        [6.84958552, 6.79611448],\n",
       "        [7.07210406, 7.01689594],\n",
       "        [7.32910721, 7.27189279],\n",
       "        [7.12686782, 7.07123218],\n",
       "        [7.07596915, 7.02073085],\n",
       "        [6.88823639, 6.83446361],\n",
       "        [6.98938118, 6.93481882],\n",
       "        [6.96413263, 6.90976737],\n",
       "        [7.16496653, 7.10903347],\n",
       "        [7.4906377 , 7.4321623 ],\n",
       "        [6.87172193, 6.81807807],\n",
       "        [6.50719911, 6.45640089],\n",
       "        [6.89581597, 6.84198403],\n",
       "        [6.95886205, 6.90453795],\n",
       "        [6.65808806, 6.60611194],\n",
       "        [7.3797549 , 7.3221451 ],\n",
       "        [7.32348526, 7.26631474],\n",
       "        [7.07627033, 7.02102967],\n",
       "        [6.9434519 , 6.8892481 ],\n",
       "        [7.31756214, 7.26043786],\n",
       "        [6.55347975, 6.50232025],\n",
       "        [7.25541959, 7.19878041],\n",
       "        [6.90424889, 6.85035111],\n",
       "        [6.92538137, 6.87131863],\n",
       "        [7.14267954, 7.08692046],\n",
       "        [6.82579265, 6.77250735],\n",
       "        [6.66486451, 6.61283549],\n",
       "        [7.34421618, 7.28688382],\n",
       "        [6.96649183, 6.91210817],\n",
       "        [7.22635615, 7.16994385],\n",
       "        [6.95344089, 6.89915911],\n",
       "        [7.01352542, 6.95877458],\n",
       "        [7.19207233, 7.13592767]]))"
      ]
     },
     "execution_count": 57,
     "metadata": {},
     "output_type": "execute_result"
    }
   ],
   "source": [
    "stats.chi2_contingency(chisq_prob)"
   ]
  },
  {
   "cell_type": "code",
   "execution_count": 58,
   "metadata": {},
   "outputs": [
    {
     "data": {
      "text/plain": [
       "1.0"
      ]
     },
     "execution_count": 58,
     "metadata": {},
     "output_type": "execute_result"
    }
   ],
   "source": [
    "stats.chi2_contingency(chisq_prob)[1]"
   ]
  },
  {
   "cell_type": "code",
   "execution_count": 59,
   "metadata": {},
   "outputs": [
    {
     "data": {
      "text/plain": [
       "array([7.29912304e-48, 3.62122155e-45])"
      ]
     },
     "execution_count": 59,
     "metadata": {},
     "output_type": "execute_result"
    }
   ],
   "source": [
    "p=scipy.stats.ttest_1samp(df,0.5)\n",
    "p\n",
    "p=scipy.stats.ttest_1samp(df,0.5)[1]\n",
    "p"
   ]
  },
  {
   "cell_type": "code",
   "execution_count": 60,
   "metadata": {},
   "outputs": [
    {
     "data": {
      "text/plain": [
       "array([3.64956152e-48, 1.81061078e-45])"
      ]
     },
     "execution_count": 60,
     "metadata": {},
     "output_type": "execute_result"
    }
   ],
   "source": [
    "p_value=p/2\n",
    "p_value"
   ]
  },
  {
   "cell_type": "code",
   "execution_count": 61,
   "metadata": {},
   "outputs": [],
   "source": [
    "#So the p value is greater than > 0.05"
   ]
  },
  {
   "cell_type": "code",
   "execution_count": 23,
   "metadata": {},
   "outputs": [
    {
     "data": {
      "text/plain": [
       "<AxesSubplot:xlabel='UnitA', ylabel='UnitB'>"
      ]
     },
     "execution_count": 23,
     "metadata": {},
     "output_type": "execute_result"
    },
    {
     "data": {
      "image/png": "[encoded data removed]",
      "text/plain": [
       "<Figure size 360x360 with 1 Axes>"
      ]
     },
     "metadata": {
      "needs_background": "light"
     },
     "output_type": "display_data"
    }
   ],
   "source": [
    "import seaborn as sns\n",
    "import matplotlib.pyplot as plt\n",
    "plt.figure(figsize = (5,5))\n",
    "sns.scatterplot(x = 'UnitA', y='UnitB',data=df,palette='Sets1')"
   ]
  },
  {
   "cell_type": "code",
   "execution_count": 24,
   "metadata": {},
   "outputs": [
    {
     "data": {
      "text/html": [
       "<div>\n",
       "<style scoped>\n",
       "    .dataframe tbody tr th:only-of-type {\n",
       "        vertical-align: middle;\n",
       "    }\n",
       "\n",
       "    .dataframe tbody tr th {\n",
       "        vertical-align: top;\n",
       "    }\n",
       "\n",
       "    .dataframe thead th {\n",
       "        text-align: right;\n",
       "    }\n",
       "</style>\n",
       "<table border=\"1\" class=\"dataframe\">\n",
       "  <thead>\n",
       "    <tr style=\"text-align: right;\">\n",
       "      <th></th>\n",
       "      <th>UnitA</th>\n",
       "      <th>UnitB</th>\n",
       "    </tr>\n",
       "  </thead>\n",
       "  <tbody>\n",
       "    <tr>\n",
       "      <th>UnitA</th>\n",
       "      <td>1.00000</td>\n",
       "      <td>0.08131</td>\n",
       "    </tr>\n",
       "    <tr>\n",
       "      <th>UnitB</th>\n",
       "      <td>0.08131</td>\n",
       "      <td>1.00000</td>\n",
       "    </tr>\n",
       "  </tbody>\n",
       "</table>\n",
       "</div>"
      ],
      "text/plain": [
       "         UnitA    UnitB\n",
       "UnitA  1.00000  0.08131\n",
       "UnitB  0.08131  1.00000"
      ]
     },
     "execution_count": 24,
     "metadata": {},
     "output_type": "execute_result"
    }
   ],
   "source": [
    "df.corr()"
   ]
  },
  {
   "cell_type": "code",
   "execution_count": 25,
   "metadata": {},
   "outputs": [
    {
     "name": "stderr",
     "output_type": "stream",
     "text": [
      "C:\\Users\\yugan\\anaconda3\\lib\\site-packages\\seaborn\\distributions.py:2551: FutureWarning: `distplot` is a deprecated function and will be removed in a future version. Please adapt your code to use either `displot` (a figure-level function with similar flexibility) or `histplot` (an axes-level function for histograms).\n",
      "  warnings.warn(msg, FutureWarning)\n"
     ]
    },
    {
     "data": {
      "text/plain": [
       "<AxesSubplot:xlabel='UnitA', ylabel='Density'>"
      ]
     },
     "execution_count": 25,
     "metadata": {},
     "output_type": "execute_result"
    },
    {
     "data": {
      "image/png": "[encoded data removed]",
      "text/plain": [
       "<Figure size 432x288 with 1 Axes>"
      ]
     },
     "metadata": {
      "needs_background": "light"
     },
     "output_type": "display_data"
    }
   ],
   "source": [
    "import seaborn as sns\n",
    "sns.distplot(df['UnitA'])"
   ]
  },
  {
   "cell_type": "code",
   "execution_count": 26,
   "metadata": {},
   "outputs": [
    {
     "name": "stderr",
     "output_type": "stream",
     "text": [
      "C:\\Users\\yugan\\anaconda3\\lib\\site-packages\\seaborn\\distributions.py:2551: FutureWarning: `distplot` is a deprecated function and will be removed in a future version. Please adapt your code to use either `displot` (a figure-level function with similar flexibility) or `histplot` (an axes-level function for histograms).\n",
      "  warnings.warn(msg, FutureWarning)\n"
     ]
    },
    {
     "data": {
      "text/plain": [
       "<AxesSubplot:xlabel='UnitB', ylabel='Density'>"
      ]
     },
     "execution_count": 26,
     "metadata": {},
     "output_type": "execute_result"
    },
    {
     "data": {
      "image/png": "[encoded data removed]",
      "text/plain": [
       "<Figure size 432x288 with 1 Axes>"
      ]
     },
     "metadata": {
      "needs_background": "light"
     },
     "output_type": "display_data"
    }
   ],
   "source": [
    "sns.distplot(df['UnitB'])"
   ]
  },
  {
   "cell_type": "code",
   "execution_count": 27,
   "metadata": {},
   "outputs": [],
   "source": [
    "import statsmodels.formula.api as smf"
   ]
  },
  {
   "cell_type": "code",
   "execution_count": 28,
   "metadata": {},
   "outputs": [],
   "source": [
    "model = smf.ols(\"UnitA~UnitB\",data = df).fit()"
   ]
  },
  {
   "cell_type": "code",
   "execution_count": 29,
   "metadata": {},
   "outputs": [
    {
     "data": {
      "image/png": "[encoded data removed]",
      "text/plain": [
       "<Figure size 432x288 with 1 Axes>"
      ]
     },
     "metadata": {
      "needs_background": "light"
     },
     "output_type": "display_data"
    }
   ],
   "source": [
    "sns.regplot(x='UnitA',y='UnitB',data=df);"
   ]
  },
  {
   "cell_type": "code",
   "execution_count": 30,
   "metadata": {},
   "outputs": [
    {
     "data": {
      "text/plain": [
       "Intercept    6.543505\n",
       "UnitB        0.068289\n",
       "dtype: float64"
      ]
     },
     "execution_count": 30,
     "metadata": {},
     "output_type": "execute_result"
    }
   ],
   "source": [
    "model.params"
   ]
  },
  {
   "cell_type": "code",
   "execution_count": 31,
   "metadata": {},
   "outputs": [
    {
     "data": {
      "text/plain": [
       "0     7.005844\n",
       "1     7.056309\n",
       "2     7.003091\n",
       "3     7.007039\n",
       "4     7.031923\n",
       "5     7.008623\n",
       "6     7.036635\n",
       "7     6.998352\n",
       "8     7.037933\n",
       "9     7.024964\n",
       "10    7.013403\n",
       "11    7.049248\n",
       "12    7.005495\n",
       "13    6.955835\n",
       "14    7.032326\n",
       "15    7.023168\n",
       "16    6.998803\n",
       "17    7.050989\n",
       "18    7.042494\n",
       "19    7.004307\n",
       "20    7.013943\n",
       "21    7.050348\n",
       "22    6.988867\n",
       "23    7.033057\n",
       "24    7.005099\n",
       "25    7.017425\n",
       "26    7.022438\n",
       "27    7.015943\n",
       "28    6.976090\n",
       "29    7.058809\n",
       "30    7.028304\n",
       "31    7.029588\n",
       "32    7.000804\n",
       "33    6.992712\n",
       "34    7.047992\n",
       "dtype: float64"
      ]
     },
     "execution_count": 31,
     "metadata": {},
     "output_type": "execute_result"
    }
   ],
   "source": [
    "model.fittedvalues"
   ]
  },
  {
   "cell_type": "code",
   "execution_count": 32,
   "metadata": {},
   "outputs": [
    {
     "data": {
      "text/plain": [
       "0    -0.196844\n",
       "1    -0.618709\n",
       "2    -0.087391\n",
       "3     0.294161\n",
       "4     0.416877\n",
       "5     0.378477\n",
       "6    -0.161135\n",
       "7     0.063748\n",
       "8    -0.353933\n",
       "9    -0.201364\n",
       "10    0.379597\n",
       "11    0.467652\n",
       "12   -0.080895\n",
       "13   -0.030235\n",
       "14   -0.452626\n",
       "15   -0.183768\n",
       "16   -0.401803\n",
       "17    0.219511\n",
       "18    0.240306\n",
       "19    0.345193\n",
       "20   -0.070143\n",
       "21    0.105652\n",
       "22   -0.454767\n",
       "23    0.252343\n",
       "24   -0.009899\n",
       "25   -0.160625\n",
       "26    0.193862\n",
       "27   -0.335843\n",
       "28   -0.032990\n",
       "29    0.026391\n",
       "30   -0.248904\n",
       "31    0.248712\n",
       "32    0.155296\n",
       "33    0.401588\n",
       "34   -0.107492\n",
       "dtype: float64"
      ]
     },
     "execution_count": 32,
     "metadata": {},
     "output_type": "execute_result"
    }
   ],
   "source": [
    "model.resid"
   ]
  },
  {
   "cell_type": "code",
   "execution_count": 33,
   "metadata": {},
   "outputs": [],
   "source": [
    "df['Predicted']=model.fittedvalues"
   ]
  },
  {
   "cell_type": "code",
   "execution_count": 34,
   "metadata": {},
   "outputs": [],
   "source": [
    "df['error']=model.resid"
   ]
  },
  {
   "cell_type": "code",
   "execution_count": 35,
   "metadata": {},
   "outputs": [
    {
     "data": {
      "text/html": [
       "<div>\n",
       "<style scoped>\n",
       "    .dataframe tbody tr th:only-of-type {\n",
       "        vertical-align: middle;\n",
       "    }\n",
       "\n",
       "    .dataframe tbody tr th {\n",
       "        vertical-align: top;\n",
       "    }\n",
       "\n",
       "    .dataframe thead th {\n",
       "        text-align: right;\n",
       "    }\n",
       "</style>\n",
       "<table border=\"1\" class=\"dataframe\">\n",
       "  <thead>\n",
       "    <tr style=\"text-align: right;\">\n",
       "      <th></th>\n",
       "      <th>UnitA</th>\n",
       "      <th>UnitB</th>\n",
       "      <th>Predicted</th>\n",
       "      <th>error</th>\n",
       "    </tr>\n",
       "  </thead>\n",
       "  <tbody>\n",
       "    <tr>\n",
       "      <th>0</th>\n",
       "      <td>6.8090</td>\n",
       "      <td>6.7703</td>\n",
       "      <td>7.005844</td>\n",
       "      <td>-0.196844</td>\n",
       "    </tr>\n",
       "    <tr>\n",
       "      <th>1</th>\n",
       "      <td>6.4376</td>\n",
       "      <td>7.5093</td>\n",
       "      <td>7.056309</td>\n",
       "      <td>-0.618709</td>\n",
       "    </tr>\n",
       "    <tr>\n",
       "      <th>2</th>\n",
       "      <td>6.9157</td>\n",
       "      <td>6.7300</td>\n",
       "      <td>7.003091</td>\n",
       "      <td>-0.087391</td>\n",
       "    </tr>\n",
       "    <tr>\n",
       "      <th>3</th>\n",
       "      <td>7.3012</td>\n",
       "      <td>6.7878</td>\n",
       "      <td>7.007039</td>\n",
       "      <td>0.294161</td>\n",
       "    </tr>\n",
       "    <tr>\n",
       "      <th>4</th>\n",
       "      <td>7.4488</td>\n",
       "      <td>7.1522</td>\n",
       "      <td>7.031923</td>\n",
       "      <td>0.416877</td>\n",
       "    </tr>\n",
       "    <tr>\n",
       "      <th>5</th>\n",
       "      <td>7.3871</td>\n",
       "      <td>6.8110</td>\n",
       "      <td>7.008623</td>\n",
       "      <td>0.378477</td>\n",
       "    </tr>\n",
       "    <tr>\n",
       "      <th>6</th>\n",
       "      <td>6.8755</td>\n",
       "      <td>7.2212</td>\n",
       "      <td>7.036635</td>\n",
       "      <td>-0.161135</td>\n",
       "    </tr>\n",
       "    <tr>\n",
       "      <th>7</th>\n",
       "      <td>7.0621</td>\n",
       "      <td>6.6606</td>\n",
       "      <td>6.998352</td>\n",
       "      <td>0.063748</td>\n",
       "    </tr>\n",
       "    <tr>\n",
       "      <th>8</th>\n",
       "      <td>6.6840</td>\n",
       "      <td>7.2402</td>\n",
       "      <td>7.037933</td>\n",
       "      <td>-0.353933</td>\n",
       "    </tr>\n",
       "    <tr>\n",
       "      <th>9</th>\n",
       "      <td>6.8236</td>\n",
       "      <td>7.0503</td>\n",
       "      <td>7.024964</td>\n",
       "      <td>-0.201364</td>\n",
       "    </tr>\n",
       "    <tr>\n",
       "      <th>10</th>\n",
       "      <td>7.3930</td>\n",
       "      <td>6.8810</td>\n",
       "      <td>7.013403</td>\n",
       "      <td>0.379597</td>\n",
       "    </tr>\n",
       "    <tr>\n",
       "      <th>11</th>\n",
       "      <td>7.5169</td>\n",
       "      <td>7.4059</td>\n",
       "      <td>7.049248</td>\n",
       "      <td>0.467652</td>\n",
       "    </tr>\n",
       "    <tr>\n",
       "      <th>12</th>\n",
       "      <td>6.9246</td>\n",
       "      <td>6.7652</td>\n",
       "      <td>7.005495</td>\n",
       "      <td>-0.080895</td>\n",
       "    </tr>\n",
       "    <tr>\n",
       "      <th>13</th>\n",
       "      <td>6.9256</td>\n",
       "      <td>6.0380</td>\n",
       "      <td>6.955835</td>\n",
       "      <td>-0.030235</td>\n",
       "    </tr>\n",
       "    <tr>\n",
       "      <th>14</th>\n",
       "      <td>6.5797</td>\n",
       "      <td>7.1581</td>\n",
       "      <td>7.032326</td>\n",
       "      <td>-0.452626</td>\n",
       "    </tr>\n",
       "    <tr>\n",
       "      <th>15</th>\n",
       "      <td>6.8394</td>\n",
       "      <td>7.0240</td>\n",
       "      <td>7.023168</td>\n",
       "      <td>-0.183768</td>\n",
       "    </tr>\n",
       "    <tr>\n",
       "      <th>16</th>\n",
       "      <td>6.5970</td>\n",
       "      <td>6.6672</td>\n",
       "      <td>6.998803</td>\n",
       "      <td>-0.401803</td>\n",
       "    </tr>\n",
       "    <tr>\n",
       "      <th>17</th>\n",
       "      <td>7.2705</td>\n",
       "      <td>7.4314</td>\n",
       "      <td>7.050989</td>\n",
       "      <td>0.219511</td>\n",
       "    </tr>\n",
       "    <tr>\n",
       "      <th>18</th>\n",
       "      <td>7.2828</td>\n",
       "      <td>7.3070</td>\n",
       "      <td>7.042494</td>\n",
       "      <td>0.240306</td>\n",
       "    </tr>\n",
       "    <tr>\n",
       "      <th>19</th>\n",
       "      <td>7.3495</td>\n",
       "      <td>6.7478</td>\n",
       "      <td>7.004307</td>\n",
       "      <td>0.345193</td>\n",
       "    </tr>\n",
       "    <tr>\n",
       "      <th>20</th>\n",
       "      <td>6.9438</td>\n",
       "      <td>6.8889</td>\n",
       "      <td>7.013943</td>\n",
       "      <td>-0.070143</td>\n",
       "    </tr>\n",
       "    <tr>\n",
       "      <th>21</th>\n",
       "      <td>7.1560</td>\n",
       "      <td>7.4220</td>\n",
       "      <td>7.050348</td>\n",
       "      <td>0.105652</td>\n",
       "    </tr>\n",
       "    <tr>\n",
       "      <th>22</th>\n",
       "      <td>6.5341</td>\n",
       "      <td>6.5217</td>\n",
       "      <td>6.988867</td>\n",
       "      <td>-0.454767</td>\n",
       "    </tr>\n",
       "    <tr>\n",
       "      <th>23</th>\n",
       "      <td>7.2854</td>\n",
       "      <td>7.1688</td>\n",
       "      <td>7.033057</td>\n",
       "      <td>0.252343</td>\n",
       "    </tr>\n",
       "    <tr>\n",
       "      <th>24</th>\n",
       "      <td>6.9952</td>\n",
       "      <td>6.7594</td>\n",
       "      <td>7.005099</td>\n",
       "      <td>-0.009899</td>\n",
       "    </tr>\n",
       "    <tr>\n",
       "      <th>25</th>\n",
       "      <td>6.8568</td>\n",
       "      <td>6.9399</td>\n",
       "      <td>7.017425</td>\n",
       "      <td>-0.160625</td>\n",
       "    </tr>\n",
       "    <tr>\n",
       "      <th>26</th>\n",
       "      <td>7.2163</td>\n",
       "      <td>7.0133</td>\n",
       "      <td>7.022438</td>\n",
       "      <td>0.193862</td>\n",
       "    </tr>\n",
       "    <tr>\n",
       "      <th>27</th>\n",
       "      <td>6.6801</td>\n",
       "      <td>6.9182</td>\n",
       "      <td>7.015943</td>\n",
       "      <td>-0.335843</td>\n",
       "    </tr>\n",
       "    <tr>\n",
       "      <th>28</th>\n",
       "      <td>6.9431</td>\n",
       "      <td>6.3346</td>\n",
       "      <td>6.976090</td>\n",
       "      <td>-0.032990</td>\n",
       "    </tr>\n",
       "    <tr>\n",
       "      <th>29</th>\n",
       "      <td>7.0852</td>\n",
       "      <td>7.5459</td>\n",
       "      <td>7.058809</td>\n",
       "      <td>0.026391</td>\n",
       "    </tr>\n",
       "    <tr>\n",
       "      <th>30</th>\n",
       "      <td>6.7794</td>\n",
       "      <td>7.0992</td>\n",
       "      <td>7.028304</td>\n",
       "      <td>-0.248904</td>\n",
       "    </tr>\n",
       "    <tr>\n",
       "      <th>31</th>\n",
       "      <td>7.2783</td>\n",
       "      <td>7.1180</td>\n",
       "      <td>7.029588</td>\n",
       "      <td>0.248712</td>\n",
       "    </tr>\n",
       "    <tr>\n",
       "      <th>32</th>\n",
       "      <td>7.1561</td>\n",
       "      <td>6.6965</td>\n",
       "      <td>7.000804</td>\n",
       "      <td>0.155296</td>\n",
       "    </tr>\n",
       "    <tr>\n",
       "      <th>33</th>\n",
       "      <td>7.3943</td>\n",
       "      <td>6.5780</td>\n",
       "      <td>6.992712</td>\n",
       "      <td>0.401588</td>\n",
       "    </tr>\n",
       "    <tr>\n",
       "      <th>34</th>\n",
       "      <td>6.9405</td>\n",
       "      <td>7.3875</td>\n",
       "      <td>7.047992</td>\n",
       "      <td>-0.107492</td>\n",
       "    </tr>\n",
       "  </tbody>\n",
       "</table>\n",
       "</div>"
      ],
      "text/plain": [
       "     UnitA   UnitB  Predicted     error\n",
       "0   6.8090  6.7703   7.005844 -0.196844\n",
       "1   6.4376  7.5093   7.056309 -0.618709\n",
       "2   6.9157  6.7300   7.003091 -0.087391\n",
       "3   7.3012  6.7878   7.007039  0.294161\n",
       "4   7.4488  7.1522   7.031923  0.416877\n",
       "5   7.3871  6.8110   7.008623  0.378477\n",
       "6   6.8755  7.2212   7.036635 -0.161135\n",
       "7   7.0621  6.6606   6.998352  0.063748\n",
       "8   6.6840  7.2402   7.037933 -0.353933\n",
       "9   6.8236  7.0503   7.024964 -0.201364\n",
       "10  7.3930  6.8810   7.013403  0.379597\n",
       "11  7.5169  7.4059   7.049248  0.467652\n",
       "12  6.9246  6.7652   7.005495 -0.080895\n",
       "13  6.9256  6.0380   6.955835 -0.030235\n",
       "14  6.5797  7.1581   7.032326 -0.452626\n",
       "15  6.8394  7.0240   7.023168 -0.183768\n",
       "16  6.5970  6.6672   6.998803 -0.401803\n",
       "17  7.2705  7.4314   7.050989  0.219511\n",
       "18  7.2828  7.3070   7.042494  0.240306\n",
       "19  7.3495  6.7478   7.004307  0.345193\n",
       "20  6.9438  6.8889   7.013943 -0.070143\n",
       "21  7.1560  7.4220   7.050348  0.105652\n",
       "22  6.5341  6.5217   6.988867 -0.454767\n",
       "23  7.2854  7.1688   7.033057  0.252343\n",
       "24  6.9952  6.7594   7.005099 -0.009899\n",
       "25  6.8568  6.9399   7.017425 -0.160625\n",
       "26  7.2163  7.0133   7.022438  0.193862\n",
       "27  6.6801  6.9182   7.015943 -0.335843\n",
       "28  6.9431  6.3346   6.976090 -0.032990\n",
       "29  7.0852  7.5459   7.058809  0.026391\n",
       "30  6.7794  7.0992   7.028304 -0.248904\n",
       "31  7.2783  7.1180   7.029588  0.248712\n",
       "32  7.1561  6.6965   7.000804  0.155296\n",
       "33  7.3943  6.5780   6.992712  0.401588\n",
       "34  6.9405  7.3875   7.047992 -0.107492"
      ]
     },
     "execution_count": 35,
     "metadata": {},
     "output_type": "execute_result"
    }
   ],
   "source": [
    "df"
   ]
  },
  {
   "cell_type": "code",
   "execution_count": 36,
   "metadata": {},
   "outputs": [
    {
     "data": {
      "text/plain": [
       "0.006611346391817929"
      ]
     },
     "execution_count": 36,
     "metadata": {},
     "output_type": "execute_result"
    }
   ],
   "source": [
    "model.rsquared"
   ]
  },
  {
   "cell_type": "code",
   "execution_count": 37,
   "metadata": {},
   "outputs": [
    {
     "data": {
      "text/plain": [
       "Intercept    2.655077e-07\n",
       "UnitB        6.424058e-01\n",
       "dtype: float64"
      ]
     },
     "execution_count": 37,
     "metadata": {},
     "output_type": "execute_result"
    }
   ],
   "source": [
    "model.pvalues"
   ]
  },
  {
   "cell_type": "code",
   "execution_count": 39,
   "metadata": {},
   "outputs": [
    {
     "data": {
      "text/html": [
       "<div>\n",
       "<style scoped>\n",
       "    .dataframe tbody tr th:only-of-type {\n",
       "        vertical-align: middle;\n",
       "    }\n",
       "\n",
       "    .dataframe tbody tr th {\n",
       "        vertical-align: top;\n",
       "    }\n",
       "\n",
       "    .dataframe thead th {\n",
       "        text-align: right;\n",
       "    }\n",
       "</style>\n",
       "<table border=\"1\" class=\"dataframe\">\n",
       "  <thead>\n",
       "    <tr style=\"text-align: right;\">\n",
       "      <th></th>\n",
       "      <th>UnitA</th>\n",
       "      <th>UnitB</th>\n",
       "      <th>Predicted</th>\n",
       "      <th>error</th>\n",
       "      <th>Error_sq</th>\n",
       "    </tr>\n",
       "  </thead>\n",
       "  <tbody>\n",
       "    <tr>\n",
       "      <th>0</th>\n",
       "      <td>6.8090</td>\n",
       "      <td>6.7703</td>\n",
       "      <td>7.005844</td>\n",
       "      <td>-0.196844</td>\n",
       "      <td>0.038747</td>\n",
       "    </tr>\n",
       "    <tr>\n",
       "      <th>1</th>\n",
       "      <td>6.4376</td>\n",
       "      <td>7.5093</td>\n",
       "      <td>7.056309</td>\n",
       "      <td>-0.618709</td>\n",
       "      <td>0.382801</td>\n",
       "    </tr>\n",
       "    <tr>\n",
       "      <th>2</th>\n",
       "      <td>6.9157</td>\n",
       "      <td>6.7300</td>\n",
       "      <td>7.003091</td>\n",
       "      <td>-0.087391</td>\n",
       "      <td>0.007637</td>\n",
       "    </tr>\n",
       "    <tr>\n",
       "      <th>3</th>\n",
       "      <td>7.3012</td>\n",
       "      <td>6.7878</td>\n",
       "      <td>7.007039</td>\n",
       "      <td>0.294161</td>\n",
       "      <td>0.086531</td>\n",
       "    </tr>\n",
       "    <tr>\n",
       "      <th>4</th>\n",
       "      <td>7.4488</td>\n",
       "      <td>7.1522</td>\n",
       "      <td>7.031923</td>\n",
       "      <td>0.416877</td>\n",
       "      <td>0.173786</td>\n",
       "    </tr>\n",
       "    <tr>\n",
       "      <th>5</th>\n",
       "      <td>7.3871</td>\n",
       "      <td>6.8110</td>\n",
       "      <td>7.008623</td>\n",
       "      <td>0.378477</td>\n",
       "      <td>0.143245</td>\n",
       "    </tr>\n",
       "    <tr>\n",
       "      <th>6</th>\n",
       "      <td>6.8755</td>\n",
       "      <td>7.2212</td>\n",
       "      <td>7.036635</td>\n",
       "      <td>-0.161135</td>\n",
       "      <td>0.025965</td>\n",
       "    </tr>\n",
       "    <tr>\n",
       "      <th>7</th>\n",
       "      <td>7.0621</td>\n",
       "      <td>6.6606</td>\n",
       "      <td>6.998352</td>\n",
       "      <td>0.063748</td>\n",
       "      <td>0.004064</td>\n",
       "    </tr>\n",
       "    <tr>\n",
       "      <th>8</th>\n",
       "      <td>6.6840</td>\n",
       "      <td>7.2402</td>\n",
       "      <td>7.037933</td>\n",
       "      <td>-0.353933</td>\n",
       "      <td>0.125268</td>\n",
       "    </tr>\n",
       "    <tr>\n",
       "      <th>9</th>\n",
       "      <td>6.8236</td>\n",
       "      <td>7.0503</td>\n",
       "      <td>7.024964</td>\n",
       "      <td>-0.201364</td>\n",
       "      <td>0.040548</td>\n",
       "    </tr>\n",
       "    <tr>\n",
       "      <th>10</th>\n",
       "      <td>7.3930</td>\n",
       "      <td>6.8810</td>\n",
       "      <td>7.013403</td>\n",
       "      <td>0.379597</td>\n",
       "      <td>0.144094</td>\n",
       "    </tr>\n",
       "    <tr>\n",
       "      <th>11</th>\n",
       "      <td>7.5169</td>\n",
       "      <td>7.4059</td>\n",
       "      <td>7.049248</td>\n",
       "      <td>0.467652</td>\n",
       "      <td>0.218698</td>\n",
       "    </tr>\n",
       "    <tr>\n",
       "      <th>12</th>\n",
       "      <td>6.9246</td>\n",
       "      <td>6.7652</td>\n",
       "      <td>7.005495</td>\n",
       "      <td>-0.080895</td>\n",
       "      <td>0.006544</td>\n",
       "    </tr>\n",
       "    <tr>\n",
       "      <th>13</th>\n",
       "      <td>6.9256</td>\n",
       "      <td>6.0380</td>\n",
       "      <td>6.955835</td>\n",
       "      <td>-0.030235</td>\n",
       "      <td>0.000914</td>\n",
       "    </tr>\n",
       "    <tr>\n",
       "      <th>14</th>\n",
       "      <td>6.5797</td>\n",
       "      <td>7.1581</td>\n",
       "      <td>7.032326</td>\n",
       "      <td>-0.452626</td>\n",
       "      <td>0.204870</td>\n",
       "    </tr>\n",
       "    <tr>\n",
       "      <th>15</th>\n",
       "      <td>6.8394</td>\n",
       "      <td>7.0240</td>\n",
       "      <td>7.023168</td>\n",
       "      <td>-0.183768</td>\n",
       "      <td>0.033771</td>\n",
       "    </tr>\n",
       "    <tr>\n",
       "      <th>16</th>\n",
       "      <td>6.5970</td>\n",
       "      <td>6.6672</td>\n",
       "      <td>6.998803</td>\n",
       "      <td>-0.401803</td>\n",
       "      <td>0.161446</td>\n",
       "    </tr>\n",
       "    <tr>\n",
       "      <th>17</th>\n",
       "      <td>7.2705</td>\n",
       "      <td>7.4314</td>\n",
       "      <td>7.050989</td>\n",
       "      <td>0.219511</td>\n",
       "      <td>0.048185</td>\n",
       "    </tr>\n",
       "    <tr>\n",
       "      <th>18</th>\n",
       "      <td>7.2828</td>\n",
       "      <td>7.3070</td>\n",
       "      <td>7.042494</td>\n",
       "      <td>0.240306</td>\n",
       "      <td>0.057747</td>\n",
       "    </tr>\n",
       "    <tr>\n",
       "      <th>19</th>\n",
       "      <td>7.3495</td>\n",
       "      <td>6.7478</td>\n",
       "      <td>7.004307</td>\n",
       "      <td>0.345193</td>\n",
       "      <td>0.119158</td>\n",
       "    </tr>\n",
       "    <tr>\n",
       "      <th>20</th>\n",
       "      <td>6.9438</td>\n",
       "      <td>6.8889</td>\n",
       "      <td>7.013943</td>\n",
       "      <td>-0.070143</td>\n",
       "      <td>0.004920</td>\n",
       "    </tr>\n",
       "    <tr>\n",
       "      <th>21</th>\n",
       "      <td>7.1560</td>\n",
       "      <td>7.4220</td>\n",
       "      <td>7.050348</td>\n",
       "      <td>0.105652</td>\n",
       "      <td>0.011162</td>\n",
       "    </tr>\n",
       "    <tr>\n",
       "      <th>22</th>\n",
       "      <td>6.5341</td>\n",
       "      <td>6.5217</td>\n",
       "      <td>6.988867</td>\n",
       "      <td>-0.454767</td>\n",
       "      <td>0.206813</td>\n",
       "    </tr>\n",
       "    <tr>\n",
       "      <th>23</th>\n",
       "      <td>7.2854</td>\n",
       "      <td>7.1688</td>\n",
       "      <td>7.033057</td>\n",
       "      <td>0.252343</td>\n",
       "      <td>0.063677</td>\n",
       "    </tr>\n",
       "    <tr>\n",
       "      <th>24</th>\n",
       "      <td>6.9952</td>\n",
       "      <td>6.7594</td>\n",
       "      <td>7.005099</td>\n",
       "      <td>-0.009899</td>\n",
       "      <td>0.000098</td>\n",
       "    </tr>\n",
       "    <tr>\n",
       "      <th>25</th>\n",
       "      <td>6.8568</td>\n",
       "      <td>6.9399</td>\n",
       "      <td>7.017425</td>\n",
       "      <td>-0.160625</td>\n",
       "      <td>0.025801</td>\n",
       "    </tr>\n",
       "    <tr>\n",
       "      <th>26</th>\n",
       "      <td>7.2163</td>\n",
       "      <td>7.0133</td>\n",
       "      <td>7.022438</td>\n",
       "      <td>0.193862</td>\n",
       "      <td>0.037583</td>\n",
       "    </tr>\n",
       "    <tr>\n",
       "      <th>27</th>\n",
       "      <td>6.6801</td>\n",
       "      <td>6.9182</td>\n",
       "      <td>7.015943</td>\n",
       "      <td>-0.335843</td>\n",
       "      <td>0.112791</td>\n",
       "    </tr>\n",
       "    <tr>\n",
       "      <th>28</th>\n",
       "      <td>6.9431</td>\n",
       "      <td>6.3346</td>\n",
       "      <td>6.976090</td>\n",
       "      <td>-0.032990</td>\n",
       "      <td>0.001088</td>\n",
       "    </tr>\n",
       "    <tr>\n",
       "      <th>29</th>\n",
       "      <td>7.0852</td>\n",
       "      <td>7.5459</td>\n",
       "      <td>7.058809</td>\n",
       "      <td>0.026391</td>\n",
       "      <td>0.000697</td>\n",
       "    </tr>\n",
       "    <tr>\n",
       "      <th>30</th>\n",
       "      <td>6.7794</td>\n",
       "      <td>7.0992</td>\n",
       "      <td>7.028304</td>\n",
       "      <td>-0.248904</td>\n",
       "      <td>0.061953</td>\n",
       "    </tr>\n",
       "    <tr>\n",
       "      <th>31</th>\n",
       "      <td>7.2783</td>\n",
       "      <td>7.1180</td>\n",
       "      <td>7.029588</td>\n",
       "      <td>0.248712</td>\n",
       "      <td>0.061858</td>\n",
       "    </tr>\n",
       "    <tr>\n",
       "      <th>32</th>\n",
       "      <td>7.1561</td>\n",
       "      <td>6.6965</td>\n",
       "      <td>7.000804</td>\n",
       "      <td>0.155296</td>\n",
       "      <td>0.024117</td>\n",
       "    </tr>\n",
       "    <tr>\n",
       "      <th>33</th>\n",
       "      <td>7.3943</td>\n",
       "      <td>6.5780</td>\n",
       "      <td>6.992712</td>\n",
       "      <td>0.401588</td>\n",
       "      <td>0.161273</td>\n",
       "    </tr>\n",
       "    <tr>\n",
       "      <th>34</th>\n",
       "      <td>6.9405</td>\n",
       "      <td>7.3875</td>\n",
       "      <td>7.047992</td>\n",
       "      <td>-0.107492</td>\n",
       "      <td>0.011554</td>\n",
       "    </tr>\n",
       "  </tbody>\n",
       "</table>\n",
       "</div>"
      ],
      "text/plain": [
       "     UnitA   UnitB  Predicted     error  Error_sq\n",
       "0   6.8090  6.7703   7.005844 -0.196844  0.038747\n",
       "1   6.4376  7.5093   7.056309 -0.618709  0.382801\n",
       "2   6.9157  6.7300   7.003091 -0.087391  0.007637\n",
       "3   7.3012  6.7878   7.007039  0.294161  0.086531\n",
       "4   7.4488  7.1522   7.031923  0.416877  0.173786\n",
       "5   7.3871  6.8110   7.008623  0.378477  0.143245\n",
       "6   6.8755  7.2212   7.036635 -0.161135  0.025965\n",
       "7   7.0621  6.6606   6.998352  0.063748  0.004064\n",
       "8   6.6840  7.2402   7.037933 -0.353933  0.125268\n",
       "9   6.8236  7.0503   7.024964 -0.201364  0.040548\n",
       "10  7.3930  6.8810   7.013403  0.379597  0.144094\n",
       "11  7.5169  7.4059   7.049248  0.467652  0.218698\n",
       "12  6.9246  6.7652   7.005495 -0.080895  0.006544\n",
       "13  6.9256  6.0380   6.955835 -0.030235  0.000914\n",
       "14  6.5797  7.1581   7.032326 -0.452626  0.204870\n",
       "15  6.8394  7.0240   7.023168 -0.183768  0.033771\n",
       "16  6.5970  6.6672   6.998803 -0.401803  0.161446\n",
       "17  7.2705  7.4314   7.050989  0.219511  0.048185\n",
       "18  7.2828  7.3070   7.042494  0.240306  0.057747\n",
       "19  7.3495  6.7478   7.004307  0.345193  0.119158\n",
       "20  6.9438  6.8889   7.013943 -0.070143  0.004920\n",
       "21  7.1560  7.4220   7.050348  0.105652  0.011162\n",
       "22  6.5341  6.5217   6.988867 -0.454767  0.206813\n",
       "23  7.2854  7.1688   7.033057  0.252343  0.063677\n",
       "24  6.9952  6.7594   7.005099 -0.009899  0.000098\n",
       "25  6.8568  6.9399   7.017425 -0.160625  0.025801\n",
       "26  7.2163  7.0133   7.022438  0.193862  0.037583\n",
       "27  6.6801  6.9182   7.015943 -0.335843  0.112791\n",
       "28  6.9431  6.3346   6.976090 -0.032990  0.001088\n",
       "29  7.0852  7.5459   7.058809  0.026391  0.000697\n",
       "30  6.7794  7.0992   7.028304 -0.248904  0.061953\n",
       "31  7.2783  7.1180   7.029588  0.248712  0.061858\n",
       "32  7.1561  6.6965   7.000804  0.155296  0.024117\n",
       "33  7.3943  6.5780   6.992712  0.401588  0.161273\n",
       "34  6.9405  7.3875   7.047992 -0.107492  0.011554"
      ]
     },
     "execution_count": 39,
     "metadata": {},
     "output_type": "execute_result"
    }
   ],
   "source": [
    "df['Error_sq']=(df['error'])**2\n",
    "df"
   ]
  },
  {
   "cell_type": "markdown",
   "metadata": {},
   "source": [
    "# LAB ASSIGNMENT"
   ]
  },
  {
   "cell_type": "code",
   "execution_count": 75,
   "metadata": {},
   "outputs": [
    {
     "data": {
      "text/html": [
       "<div>\n",
       "<style scoped>\n",
       "    .dataframe tbody tr th:only-of-type {\n",
       "        vertical-align: middle;\n",
       "    }\n",
       "\n",
       "    .dataframe tbody tr th {\n",
       "        vertical-align: top;\n",
       "    }\n",
       "\n",
       "    .dataframe thead th {\n",
       "        text-align: right;\n",
       "    }\n",
       "</style>\n",
       "<table border=\"1\" class=\"dataframe\">\n",
       "  <thead>\n",
       "    <tr style=\"text-align: right;\">\n",
       "      <th></th>\n",
       "      <th>Laboratory1</th>\n",
       "      <th>Laboratory2</th>\n",
       "      <th>Laboratory3</th>\n",
       "      <th>Laboratory4</th>\n",
       "    </tr>\n",
       "  </thead>\n",
       "  <tbody>\n",
       "    <tr>\n",
       "      <th>0</th>\n",
       "      <td>185.35</td>\n",
       "      <td>165.53</td>\n",
       "      <td>176.70</td>\n",
       "      <td>166.13</td>\n",
       "    </tr>\n",
       "    <tr>\n",
       "      <th>1</th>\n",
       "      <td>170.49</td>\n",
       "      <td>185.91</td>\n",
       "      <td>198.45</td>\n",
       "      <td>160.79</td>\n",
       "    </tr>\n",
       "    <tr>\n",
       "      <th>2</th>\n",
       "      <td>192.77</td>\n",
       "      <td>194.92</td>\n",
       "      <td>201.23</td>\n",
       "      <td>185.18</td>\n",
       "    </tr>\n",
       "    <tr>\n",
       "      <th>3</th>\n",
       "      <td>177.33</td>\n",
       "      <td>183.00</td>\n",
       "      <td>199.61</td>\n",
       "      <td>176.42</td>\n",
       "    </tr>\n",
       "    <tr>\n",
       "      <th>4</th>\n",
       "      <td>193.41</td>\n",
       "      <td>169.57</td>\n",
       "      <td>204.63</td>\n",
       "      <td>152.60</td>\n",
       "    </tr>\n",
       "    <tr>\n",
       "      <th>...</th>\n",
       "      <td>...</td>\n",
       "      <td>...</td>\n",
       "      <td>...</td>\n",
       "      <td>...</td>\n",
       "    </tr>\n",
       "    <tr>\n",
       "      <th>115</th>\n",
       "      <td>178.49</td>\n",
       "      <td>170.66</td>\n",
       "      <td>193.80</td>\n",
       "      <td>172.68</td>\n",
       "    </tr>\n",
       "    <tr>\n",
       "      <th>116</th>\n",
       "      <td>176.08</td>\n",
       "      <td>183.98</td>\n",
       "      <td>215.25</td>\n",
       "      <td>177.64</td>\n",
       "    </tr>\n",
       "    <tr>\n",
       "      <th>117</th>\n",
       "      <td>202.48</td>\n",
       "      <td>174.54</td>\n",
       "      <td>203.99</td>\n",
       "      <td>170.27</td>\n",
       "    </tr>\n",
       "    <tr>\n",
       "      <th>118</th>\n",
       "      <td>182.40</td>\n",
       "      <td>197.18</td>\n",
       "      <td>194.52</td>\n",
       "      <td>150.87</td>\n",
       "    </tr>\n",
       "    <tr>\n",
       "      <th>119</th>\n",
       "      <td>182.09</td>\n",
       "      <td>215.17</td>\n",
       "      <td>221.49</td>\n",
       "      <td>162.21</td>\n",
       "    </tr>\n",
       "  </tbody>\n",
       "</table>\n",
       "<p>120 rows × 4 columns</p>\n",
       "</div>"
      ],
      "text/plain": [
       "     Laboratory1  Laboratory2  Laboratory3  Laboratory4\n",
       "0         185.35       165.53       176.70       166.13\n",
       "1         170.49       185.91       198.45       160.79\n",
       "2         192.77       194.92       201.23       185.18\n",
       "3         177.33       183.00       199.61       176.42\n",
       "4         193.41       169.57       204.63       152.60\n",
       "..           ...          ...          ...          ...\n",
       "115       178.49       170.66       193.80       172.68\n",
       "116       176.08       183.98       215.25       177.64\n",
       "117       202.48       174.54       203.99       170.27\n",
       "118       182.40       197.18       194.52       150.87\n",
       "119       182.09       215.17       221.49       162.21\n",
       "\n",
       "[120 rows x 4 columns]"
      ]
     },
     "execution_count": 75,
     "metadata": {},
     "output_type": "execute_result"
    }
   ],
   "source": [
    "df =pd.read_csv('D:\\\\Assignment Excelr\\\\Hypotesis Testing\\\\LabTAT (1).csv')\n",
    "df"
   ]
  },
  {
   "cell_type": "code",
   "execution_count": 114,
   "metadata": {},
   "outputs": [
    {
     "data": {
      "text/plain": [
       "array([9.84030552e-137, 2.28591160e-130, 6.37925298e-131, 2.34252688e-125])"
      ]
     },
     "execution_count": 114,
     "metadata": {},
     "output_type": "execute_result"
    }
   ],
   "source": [
    "p=scipy.stats.ttest_1samp(df,0.5)\n",
    "p\n",
    "p=scipy.stats.ttest_1samp(df,0.5)[1]\n",
    "p\n"
   ]
  },
  {
   "cell_type": "code",
   "execution_count": 77,
   "metadata": {},
   "outputs": [
    {
     "data": {
      "text/plain": [
       "array([4.92015276e-137, 1.14295580e-130, 3.18962649e-131, 1.17126344e-125])"
      ]
     },
     "execution_count": 77,
     "metadata": {},
     "output_type": "execute_result"
    }
   ],
   "source": [
    "p_value=p/2\n",
    "p_value"
   ]
  },
  {
   "cell_type": "code",
   "execution_count": 78,
   "metadata": {},
   "outputs": [
    {
     "data": {
      "text/plain": [
       "F_onewayResult(statistic=118.70421654401437, pvalue=2.1156708949992414e-57)"
      ]
     },
     "execution_count": 78,
     "metadata": {},
     "output_type": "execute_result"
    }
   ],
   "source": [
    "stats.f_oneway(df.iloc[:,0],df.iloc[:,1],df.iloc[:,2],df.iloc[:,3])"
   ]
  },
  {
   "cell_type": "code",
   "execution_count": 79,
   "metadata": {},
   "outputs": [],
   "source": [
    "chisq_prob=df.values"
   ]
  },
  {
   "cell_type": "code",
   "execution_count": 80,
   "metadata": {},
   "outputs": [
    {
     "data": {
      "text/plain": [
       "array([[185.35, 165.53, 176.7 , 166.13],\n",
       "       [170.49, 185.91, 198.45, 160.79],\n",
       "       [192.77, 194.92, 201.23, 185.18],\n",
       "       [177.33, 183.  , 199.61, 176.42],\n",
       "       [193.41, 169.57, 204.63, 152.6 ],\n",
       "       [179.45, 197.  , 181.51, 161.12],\n",
       "       [191.37, 166.36, 214.21, 154.02],\n",
       "       [166.81, 169.6 , 183.43, 163.25],\n",
       "       [158.81, 175.36, 191.6 , 152.79],\n",
       "       [165.88, 198.68, 208.43, 161.98],\n",
       "       [174.75, 189.12, 231.  , 171.22],\n",
       "       [193.37, 140.55, 198.37, 183.67],\n",
       "       [184.75, 160.44, 226.62, 142.95],\n",
       "       [178.54, 167.03, 214.44, 152.37],\n",
       "       [180.19, 182.67, 159.69, 163.81],\n",
       "       [172.17, 155.73, 214.14, 156.06],\n",
       "       [172.  , 183.07, 212.29, 176.44],\n",
       "       [184.92, 177.7 , 209.25, 173.68],\n",
       "       [187.38, 191.62, 198.54, 161.49],\n",
       "       [194.17, 186.85, 229.02, 175.05],\n",
       "       [192.03, 161.09, 214.71, 150.22],\n",
       "       [193.77, 173.01, 172.27, 148.17],\n",
       "       [178.24, 199.43, 205.31, 166.21],\n",
       "       [171.41, 185.67, 180.35, 145.4 ],\n",
       "       [178.3 , 182.69, 214.58, 166.42],\n",
       "       [176.13, 180.45, 231.76, 132.21],\n",
       "       [180.67, 182.37, 215.78, 143.26],\n",
       "       [177.38, 189.99, 201.78, 154.06],\n",
       "       [190.36, 167.55, 191.64, 179.08],\n",
       "       [199.99, 190.09, 217.56, 144.82],\n",
       "       [181.36, 168.01, 193.04, 184.64],\n",
       "       [187.37, 176.5 , 217.66, 188.49],\n",
       "       [172.93, 173.54, 198.68, 198.69],\n",
       "       [187.18, 153.75, 206.49, 142.43],\n",
       "       [179.03, 212.8 , 198.81, 169.68],\n",
       "       [181.69, 179.32, 200.58, 174.79],\n",
       "       [185.28, 173.56, 199.91, 133.31],\n",
       "       [157.14, 217.86, 190.34, 176.42],\n",
       "       [184.42, 187.57, 181.87, 176.67],\n",
       "       [183.45, 163.69, 214.39, 158.2 ],\n",
       "       [175.5 , 186.49, 189.61, 157.02],\n",
       "       [169.55, 171.31, 203.58, 154.55],\n",
       "       [166.86, 202.29, 196.64, 157.58],\n",
       "       [166.33, 197.68, 225.42, 161.96],\n",
       "       [173.88, 156.89, 175.13, 168.14],\n",
       "       [189.84, 168.03, 228.21, 180.14],\n",
       "       [184.88, 173.09, 229.33, 170.28],\n",
       "       [188.63, 187.52, 170.58, 166.68],\n",
       "       [216.39, 193.28, 177.76, 161.42],\n",
       "       [180.57, 178.04, 207.34, 153.97],\n",
       "       [177.54, 197.45, 178.07, 167.5 ],\n",
       "       [182.34, 172.35, 188.32, 165.43],\n",
       "       [187.35, 167.63, 193.26, 150.83],\n",
       "       [185.87, 194.24, 201.17, 149.96],\n",
       "       [188.01, 179.43, 192.75, 161.94],\n",
       "       [182.62, 183.62, 192.81, 146.46],\n",
       "       [179.08, 157.92, 183.1 , 174.83],\n",
       "       [189.96, 173.55, 181.92, 181.66],\n",
       "       [169.15, 180.86, 209.43, 164.82],\n",
       "       [169.83, 161.02, 180.11, 181.35],\n",
       "       [181.45, 178.42, 172.92, 176.21],\n",
       "       [196.13, 165.12, 205.01, 152.4 ],\n",
       "       [172.02, 183.75, 206.46, 159.63],\n",
       "       [181.83, 186.77, 192.48, 156.56],\n",
       "       [170.41, 177.59, 237.49, 168.11],\n",
       "       [161.99, 202.78, 173.08, 145.07],\n",
       "       [138.3 , 176.63, 193.08, 128.93],\n",
       "       [170.61, 169.11, 203.24, 165.95],\n",
       "       [201.27, 148.7 , 215.17, 181.76],\n",
       "       [202.12, 154.19, 186.83, 168.17],\n",
       "       [172.62, 189.65, 199.7 , 162.11],\n",
       "       [159.13, 186.93, 225.14, 177.03],\n",
       "       [143.52, 168.2 , 213.18, 124.06],\n",
       "       [195.85, 159.14, 237.23, 138.48],\n",
       "       [186.22, 182.17, 189.98, 167.83],\n",
       "       [168.62, 198.69, 193.63, 165.07],\n",
       "       [164.88, 167.9 , 184.7 , 153.74],\n",
       "       [155.29, 178.21, 175.87, 172.72],\n",
       "       [168.39, 170.73, 180.94, 159.97],\n",
       "       [190.02, 199.62, 211.19, 167.26],\n",
       "       [188.99, 186.03, 205.54, 164.98],\n",
       "       [175.49, 156.23, 219.55, 154.06],\n",
       "       [190.88, 158.08, 197.33, 168.92],\n",
       "       [178.08, 163.74, 205.62, 168.9 ],\n",
       "       [210.38, 161.45, 238.7 , 157.48],\n",
       "       [164.27, 163.45, 192.5 , 164.03],\n",
       "       [166.97, 178.17, 208.35, 162.76],\n",
       "       [176.16, 194.1 , 208.04, 173.37],\n",
       "       [199.72, 182.6 , 222.47, 152.13],\n",
       "       [176.93, 168.51, 207.6 , 187.08],\n",
       "       [185.16, 191.89, 194.59, 162.84],\n",
       "       [161.05, 180.53, 184.28, 162.67],\n",
       "       [186.32, 165.45, 174.55, 157.21],\n",
       "       [149.24, 168.8 , 188.53, 156.79],\n",
       "       [168.62, 159.92, 204.28, 172.38],\n",
       "       [171.64, 188.49, 202.95, 167.62],\n",
       "       [185.42, 205.27, 177.62, 172.72],\n",
       "       [162.43, 185.63, 201.99, 167.55],\n",
       "       [178.81, 197.38, 195.6 , 132.49],\n",
       "       [172.65, 186.71, 178.86, 166.18],\n",
       "       [164.65, 194.81, 211.23, 176.79],\n",
       "       [178.52, 198.09, 213.29, 197.98],\n",
       "       [170.11, 164.07, 199.12, 184.78],\n",
       "       [167.15, 170.48, 187.97, 180.51],\n",
       "       [190.32, 184.86, 180.93, 167.27],\n",
       "       [167.25, 189.11, 213.22, 159.34],\n",
       "       [179.2 , 179.68, 175.36, 142.35],\n",
       "       [171.65, 142.38, 187.6 , 167.07],\n",
       "       [166.35, 167.72, 208.33, 126.94],\n",
       "       [175.41, 199.9 , 172.86, 205.18],\n",
       "       [172.05, 174.43, 211.64, 152.31],\n",
       "       [181.88, 168.2 , 183.19, 191.26],\n",
       "       [201.11, 195.07, 203.05, 160.98],\n",
       "       [154.21, 193.79, 197.88, 192.23],\n",
       "       [145.89, 175.16, 203.39, 139.34],\n",
       "       [178.49, 170.66, 193.8 , 172.68],\n",
       "       [176.08, 183.98, 215.25, 177.64],\n",
       "       [202.48, 174.54, 203.99, 170.27],\n",
       "       [182.4 , 197.18, 194.52, 150.87],\n",
       "       [182.09, 215.17, 221.49, 162.21]])"
      ]
     },
     "execution_count": 80,
     "metadata": {},
     "output_type": "execute_result"
    }
   ],
   "source": [
    "chisq_prob"
   ]
  },
  {
   "cell_type": "code",
   "execution_count": 81,
   "metadata": {},
   "outputs": [
    {
     "data": {
      "text/plain": [
       "(450.67265867639776,\n",
       " 0.0005507538384061118,\n",
       " 357,\n",
       " array([[171.64377015, 172.1647147 , 192.38371454, 157.5178006 ],\n",
       "        [177.06988175, 177.60729473, 198.46547041, 162.49735311],\n",
       "        [191.53456412, 192.11587789, 214.67793953, 175.77161847],\n",
       "        [182.19660462, 182.74957737, 204.21166199, 167.20215602],\n",
       "        [178.20063096, 178.7414758 , 199.73284954, 163.53504371],\n",
       "        [177.92103652, 178.46103277, 199.41947133, 163.27845938],\n",
       "        [179.62334604, 180.16850886, 201.32747317, 164.84067193],\n",
       "        [169.01607726, 169.52904667, 189.43851403, 155.10636205],\n",
       "        [167.8952252 , 168.40479279, 188.18222793, 154.07775407],\n",
       "        [181.85267871, 182.40460764, 203.82617906, 166.88653459],\n",
       "        [189.55266016, 190.12795878, 212.45655948, 173.95282159],\n",
       "        [177.14905894, 177.68671222, 198.55421468, 162.57001416],\n",
       "        [176.85214449, 177.38889663, 198.22142366, 162.29753522],\n",
       "        [176.26326416, 176.79822903, 197.56138814, 161.75711867],\n",
       "        [169.82516914, 170.34059417, 190.34536955, 155.84886714],\n",
       "        [172.72998219, 173.25422342, 193.60117502, 158.51461937],\n",
       "        [184.03747422, 184.59603407, 206.27496631, 168.89152541],\n",
       "        [184.47047446, 185.03034848, 206.76028654, 169.28889052],\n",
       "        [182.85723927, 183.41221707, 204.95212201, 167.80842165],\n",
       "        [194.25380564, 194.84337239, 217.7257506 , 178.26707136],\n",
       "        [177.66618494, 178.20540772, 199.1338257 , 163.04458163],\n",
       "        [170.03795783, 170.55402868, 190.58386978, 156.04414371],\n",
       "        [185.37111496, 185.93372246, 207.76975263, 170.11540995],\n",
       "        [168.95174579, 169.46451996, 189.36640931, 155.04732494],\n",
       "        [183.58962825, 184.14682888, 205.77300652, 168.48053635],\n",
       "        [178.28475672, 178.82585688, 199.82714032, 163.61224608],\n",
       "        [178.66332264, 179.20557177, 200.25144887, 163.95965672],\n",
       "        [178.94291709, 179.48601479, 200.56482708, 164.21624104],\n",
       "        [180.28398069, 180.83114857, 202.06793318, 165.44693756],\n",
       "        [186.18020684, 186.74526996, 208.67660816, 170.85791504],\n",
       "        [179.89304333, 180.4390247 , 201.62975834, 165.08817363],\n",
       "        [190.52505498, 191.10330486, 213.54645006, 174.8451901 ],\n",
       "        [184.04737137, 184.60596126, 206.28605934, 168.90060804],\n",
       "        [170.68869533, 171.2067412 , 191.31323677, 156.6413267 ],\n",
       "        [188.1249965 , 188.69596212, 210.85638933, 172.64265205],\n",
       "        [182.20155319, 182.75454096, 204.21720851, 167.20669734],\n",
       "        [171.23551278, 171.75521825, 191.92612689, 157.14314207],\n",
       "        [183.53271965, 184.08974755, 205.70922158, 168.42831122],\n",
       "        [180.75409524, 181.30268993, 202.59485229, 165.87836254],\n",
       "        [178.08186518, 178.62234956, 199.59973313, 163.42605214],\n",
       "        [175.33293221, 175.86507349, 196.51864295, 160.90335135],\n",
       "        [172.95019374, 173.47510333, 193.84799502, 158.71670791],\n",
       "        [178.98250568, 179.52572353, 200.60919922, 164.25257157],\n",
       "        [185.91545812, 186.47971772, 208.3798695 , 170.61495466],\n",
       "        [166.77684743, 167.28302071, 186.9287151 , 153.05141676],\n",
       "        [189.58482589, 190.16022213, 212.49261184, 173.98234014],\n",
       "        [187.44704184, 188.01594984, 210.0965165 , 172.02049182],\n",
       "        [176.51811573, 177.05385408, 197.84703376, 161.99099642],\n",
       "        [185.2869892 , 185.84934137, 207.67546184, 170.03820758],\n",
       "        [178.12887663, 178.66950369, 199.65242504, 163.46919464],\n",
       "        [178.28723101, 178.82833868, 199.82991358, 163.61451673],\n",
       "        [175.28839505, 175.82040115, 196.4687243 , 160.86247951],\n",
       "        [172.96998804, 173.4949577 , 193.87018109, 158.73487317],\n",
       "        [180.92976962, 181.47889749, 202.79175365, 166.03957924],\n",
       "        [178.67569408, 179.21798075, 200.26531517, 163.97101   ],\n",
       "        [174.56342893, 175.09323473, 195.65615956, 160.19717678],\n",
       "        [171.94563318, 172.46749389, 192.72205208, 157.79482085],\n",
       "        [179.90294048, 180.44895188, 201.64085137, 165.09725626],\n",
       "        [179.20271723, 179.74660343, 200.85601922, 164.45466011],\n",
       "        [171.29736996, 171.81726317, 191.99545835, 157.19990852],\n",
       "        [175.42695512, 175.95938176, 196.62402677, 160.98963634],\n",
       "        [177.81711646, 178.35679732, 199.30299447, 163.18309176],\n",
       "        [178.60888833, 179.15097224, 200.19043719, 163.90970224],\n",
       "        [177.56473917, 178.10365406, 199.0201221 , 162.95148466],\n",
       "        [186.46227557, 187.02819478, 208.99275963, 171.11677003],\n",
       "        [168.97401438, 169.48685613, 189.39136864, 155.06776086],\n",
       "        [157.59724231, 158.07555518, 176.63992611, 144.62727641],\n",
       "        [175.40468654, 175.93704559, 196.59906744, 160.96920042],\n",
       "        [184.80450322, 185.36539103, 207.13467644, 169.59542932],\n",
       "        [175.99851544, 176.53267679, 197.26464948, 161.51415829],\n",
       "        [179.15818006, 179.70193109, 200.80610057, 164.41378827],\n",
       "        [185.1335834 , 185.69546998, 207.50351982, 169.8974268 ],\n",
       "        [160.5713354 , 161.05867474, 179.97338281, 147.35660706],\n",
       "        [180.79615812, 181.34488047, 202.64199769, 165.91696372],\n",
       "        [179.68272893, 180.22807198, 201.39403137, 164.89516772],\n",
       "        [179.63571747, 180.18091785, 201.34133946, 164.85202522],\n",
       "        [166.07909847, 166.58315406, 186.1466562 , 152.41109127],\n",
       "        [168.76864855, 169.280867  , 189.16118818, 154.87929627],\n",
       "        [168.25894541, 168.7696169 , 188.58989693, 154.41154077],\n",
       "        [190.04751757, 190.62431811, 213.01121117, 174.40695314],\n",
       "        [184.46800017, 185.02786668, 206.75751328, 169.28661986],\n",
       "        [174.51889176, 175.0485624 , 195.60624091, 160.15630494],\n",
       "        [176.96348741, 177.50057748, 198.34622029, 162.39971482],\n",
       "        [177.24308185, 177.7810205 , 198.6595985 , 162.65629915],\n",
       "        [190.02772328, 190.60446373, 212.98902511, 174.38878788],\n",
       "        [169.30309456, 169.81693508, 189.76021201, 155.36975835],\n",
       "        [177.22081327, 177.75868433, 198.63463917, 162.63586323],\n",
       "        [185.98473816, 186.54920802, 208.45752074, 170.67853308],\n",
       "        [187.28373889, 187.85215126, 209.91348144, 171.87062841],\n",
       "        [183.12693657, 183.68273291, 205.25440718, 168.05592334],\n",
       "        [181.73143864, 182.2829996 , 203.6902894 , 166.77527236],\n",
       "        [170.36208944, 170.87914404, 190.94716665, 156.34159988],\n",
       "        [169.12494589, 169.63824572, 189.5605374 , 155.20627099],\n",
       "        [164.13430882, 164.6324619 , 183.96687503, 150.62635425],\n",
       "        [174.48672603, 175.01629904, 195.57018855, 160.12678639],\n",
       "        [180.79615812, 181.34488047, 202.64199769, 165.91696372],\n",
       "        [183.35209669, 183.9085764 , 205.50677371, 168.2625532 ],\n",
       "        [177.55484203, 178.09372687, 199.00902907, 162.94240203],\n",
       "        [174.25909161, 174.78797375, 195.31504876, 159.91788587],\n",
       "        [174.28878306, 174.81775531, 195.34832787, 159.94513377],\n",
       "        [184.94801187, 185.50933523, 207.29552543, 169.72712747],\n",
       "        [194.94413174, 195.53579366, 218.49948972, 178.90058488],\n",
       "        [177.67360781, 178.21285311, 199.14214548, 163.05139361],\n",
       "        [174.71188615, 175.24214253, 195.82255507, 160.33341625],\n",
       "        [178.98497997, 179.52820533, 200.61197248, 164.25484223],\n",
       "        [180.35573502, 180.90312067, 202.14835768, 165.51278663],\n",
       "        [167.40779064, 167.91587885, 187.63589601, 153.63043449],\n",
       "        [165.45557813, 165.9577413 , 185.44779507, 151.83888551],\n",
       "        [165.6139325 , 166.11657629, 185.62528361, 151.9842076 ],\n",
       "        [186.40041839, 186.96614986, 208.92342816, 171.06000358],\n",
       "        [175.78077818, 176.31427868, 197.02060273, 161.31434041],\n",
       "        [179.26952298, 179.81361194, 200.9308972 , 164.51596787],\n",
       "        [188.09777934, 188.66866235, 210.82588349, 172.61767482],\n",
       "        [182.62960486, 183.18389178, 204.69698223, 167.59952113],\n",
       "        [164.23822887, 164.73669736, 184.08335189, 150.72172188],\n",
       "        [177.06740747, 177.60481293, 198.46269715, 162.49508245],\n",
       "        [186.30144691, 186.86687799, 208.81249782, 170.96917727],\n",
       "        [185.88824097, 186.45241796, 208.34936366, 170.58997742],\n",
       "        [179.37839162, 179.922811  , 201.05292058, 164.61587681],\n",
       "        [193.23192507, 193.81839038, 216.58039485, 177.3292897 ]]))"
      ]
     },
     "execution_count": 81,
     "metadata": {},
     "output_type": "execute_result"
    }
   ],
   "source": [
    "stats.chi2_contingency(chisq_prob)"
   ]
  },
  {
   "cell_type": "code",
   "execution_count": 82,
   "metadata": {},
   "outputs": [],
   "source": [
    "#So the p value is greater than > 0.05"
   ]
  },
  {
   "cell_type": "code",
   "execution_count": 83,
   "metadata": {},
   "outputs": [
    {
     "data": {
      "text/html": [
       "<div>\n",
       "<style scoped>\n",
       "    .dataframe tbody tr th:only-of-type {\n",
       "        vertical-align: middle;\n",
       "    }\n",
       "\n",
       "    .dataframe tbody tr th {\n",
       "        vertical-align: top;\n",
       "    }\n",
       "\n",
       "    .dataframe thead th {\n",
       "        text-align: right;\n",
       "    }\n",
       "</style>\n",
       "<table border=\"1\" class=\"dataframe\">\n",
       "  <thead>\n",
       "    <tr style=\"text-align: right;\">\n",
       "      <th></th>\n",
       "      <th>Laboratory1</th>\n",
       "      <th>Laboratory2</th>\n",
       "      <th>Laboratory3</th>\n",
       "      <th>Laboratory4</th>\n",
       "    </tr>\n",
       "  </thead>\n",
       "  <tbody>\n",
       "    <tr>\n",
       "      <th>Laboratory1</th>\n",
       "      <td>1.000000</td>\n",
       "      <td>-0.126798</td>\n",
       "      <td>0.107501</td>\n",
       "      <td>0.092414</td>\n",
       "    </tr>\n",
       "    <tr>\n",
       "      <th>Laboratory2</th>\n",
       "      <td>-0.126798</td>\n",
       "      <td>1.000000</td>\n",
       "      <td>-0.065967</td>\n",
       "      <td>0.062120</td>\n",
       "    </tr>\n",
       "    <tr>\n",
       "      <th>Laboratory3</th>\n",
       "      <td>0.107501</td>\n",
       "      <td>-0.065967</td>\n",
       "      <td>1.000000</td>\n",
       "      <td>-0.125211</td>\n",
       "    </tr>\n",
       "    <tr>\n",
       "      <th>Laboratory4</th>\n",
       "      <td>0.092414</td>\n",
       "      <td>0.062120</td>\n",
       "      <td>-0.125211</td>\n",
       "      <td>1.000000</td>\n",
       "    </tr>\n",
       "  </tbody>\n",
       "</table>\n",
       "</div>"
      ],
      "text/plain": [
       "             Laboratory1  Laboratory2  Laboratory3  Laboratory4\n",
       "Laboratory1     1.000000    -0.126798     0.107501     0.092414\n",
       "Laboratory2    -0.126798     1.000000    -0.065967     0.062120\n",
       "Laboratory3     0.107501    -0.065967     1.000000    -0.125211\n",
       "Laboratory4     0.092414     0.062120    -0.125211     1.000000"
      ]
     },
     "execution_count": 83,
     "metadata": {},
     "output_type": "execute_result"
    }
   ],
   "source": [
    "df.corr()"
   ]
  },
  {
   "cell_type": "code",
   "execution_count": 84,
   "metadata": {},
   "outputs": [
    {
     "data": {
      "text/plain": [
       "<AxesSubplot:xlabel='Laboratory1', ylabel='Laboratory2'>"
      ]
     },
     "execution_count": 84,
     "metadata": {},
     "output_type": "execute_result"
    },
    {
     "data": {
      "image/png": "[encoded data removed]",
      "text/plain": [
       "<Figure size 360x360 with 1 Axes>"
      ]
     },
     "metadata": {
      "needs_background": "light"
     },
     "output_type": "display_data"
    }
   ],
   "source": [
    "plt.figure(figsize = (5,5))\n",
    "sns.scatterplot(x = 'Laboratory1', y='Laboratory2',data=df,palette='Sets1')"
   ]
  },
  {
   "cell_type": "code",
   "execution_count": 85,
   "metadata": {},
   "outputs": [
    {
     "data": {
      "text/plain": [
       "<AxesSubplot:xlabel='Laboratory3', ylabel='Laboratory4'>"
      ]
     },
     "execution_count": 85,
     "metadata": {},
     "output_type": "execute_result"
    },
    {
     "data": {
      "image/png": "[encoded data removed]",
      "text/plain": [
       "<Figure size 360x360 with 1 Axes>"
      ]
     },
     "metadata": {
      "needs_background": "light"
     },
     "output_type": "display_data"
    }
   ],
   "source": [
    "plt.figure(figsize = (5,5))\n",
    "sns.scatterplot(x = 'Laboratory3', y='Laboratory4',data=df,palette='Sets1')"
   ]
  },
  {
   "cell_type": "code",
   "execution_count": 86,
   "metadata": {},
   "outputs": [
    {
     "data": {
      "text/plain": [
       "<AxesSubplot:xlabel='Laboratory1', ylabel='Laboratory3'>"
      ]
     },
     "execution_count": 86,
     "metadata": {},
     "output_type": "execute_result"
    },
    {
     "data": {
      "image/png": "[encoded data removed]",
      "text/plain": [
       "<Figure size 360x360 with 1 Axes>"
      ]
     },
     "metadata": {
      "needs_background": "light"
     },
     "output_type": "display_data"
    }
   ],
   "source": [
    "plt.figure(figsize = (5,5))\n",
    "sns.scatterplot(x = 'Laboratory1', y='Laboratory3',data=df,palette='Sets1')"
   ]
  },
  {
   "cell_type": "code",
   "execution_count": 87,
   "metadata": {},
   "outputs": [
    {
     "data": {
      "text/plain": [
       "<AxesSubplot:xlabel='Laboratory2', ylabel='Laboratory4'>"
      ]
     },
     "execution_count": 87,
     "metadata": {},
     "output_type": "execute_result"
    },
    {
     "data": {
      "image/png": "[encoded data removed]",
      "text/plain": [
       "<Figure size 360x360 with 1 Axes>"
      ]
     },
     "metadata": {
      "needs_background": "light"
     },
     "output_type": "display_data"
    }
   ],
   "source": [
    "plt.figure(figsize = (5,5))\n",
    "sns.scatterplot(x = 'Laboratory2', y='Laboratory4',data=df,palette='Sets1')"
   ]
  },
  {
   "cell_type": "code",
   "execution_count": 88,
   "metadata": {},
   "outputs": [
    {
     "data": {
      "text/plain": [
       "<AxesSubplot:xlabel='Laboratory1', ylabel='Laboratory4'>"
      ]
     },
     "execution_count": 88,
     "metadata": {},
     "output_type": "execute_result"
    },
    {
     "data": {
      "image/png": "[encoded data removed]",
      "text/plain": [
       "<Figure size 360x360 with 1 Axes>"
      ]
     },
     "metadata": {
      "needs_background": "light"
     },
     "output_type": "display_data"
    }
   ],
   "source": [
    "plt.figure(figsize = (5,5))\n",
    "sns.scatterplot(x = 'Laboratory1', y='Laboratory4',data=df,palette='Sets1')"
   ]
  },
  {
   "cell_type": "code",
   "execution_count": 89,
   "metadata": {},
   "outputs": [
    {
     "data": {
      "text/plain": [
       "<AxesSubplot:xlabel='Laboratory2', ylabel='Laboratory3'>"
      ]
     },
     "execution_count": 89,
     "metadata": {},
     "output_type": "execute_result"
    },
    {
     "data": {
      "image/png": "[encoded data removed]",
      "text/plain": [
       "<Figure size 360x360 with 1 Axes>"
      ]
     },
     "metadata": {
      "needs_background": "light"
     },
     "output_type": "display_data"
    }
   ],
   "source": [
    "plt.figure(figsize = (5,5))\n",
    "sns.scatterplot(x = 'Laboratory2', y='Laboratory3',data=df,palette='Sets1')"
   ]
  },
  {
   "cell_type": "code",
   "execution_count": 90,
   "metadata": {},
   "outputs": [
    {
     "name": "stderr",
     "output_type": "stream",
     "text": [
      "C:\\Users\\yugan\\anaconda3\\lib\\site-packages\\seaborn\\distributions.py:2551: FutureWarning: `distplot` is a deprecated function and will be removed in a future version. Please adapt your code to use either `displot` (a figure-level function with similar flexibility) or `histplot` (an axes-level function for histograms).\n",
      "  warnings.warn(msg, FutureWarning)\n"
     ]
    },
    {
     "data": {
      "text/plain": [
       "<AxesSubplot:xlabel='Laboratory1', ylabel='Density'>"
      ]
     },
     "execution_count": 90,
     "metadata": {},
     "output_type": "execute_result"
    },
    {
     "data": {
      "image/png": "[encoded data removed]",
      "text/plain": [
       "<Figure size 432x288 with 1 Axes>"
      ]
     },
     "metadata": {
      "needs_background": "light"
     },
     "output_type": "display_data"
    }
   ],
   "source": [
    "sns.distplot(df['Laboratory1'])"
   ]
  },
  {
   "cell_type": "code",
   "execution_count": 92,
   "metadata": {},
   "outputs": [
    {
     "name": "stderr",
     "output_type": "stream",
     "text": [
      "C:\\Users\\yugan\\anaconda3\\lib\\site-packages\\seaborn\\distributions.py:2551: FutureWarning: `distplot` is a deprecated function and will be removed in a future version. Please adapt your code to use either `displot` (a figure-level function with similar flexibility) or `histplot` (an axes-level function for histograms).\n",
      "  warnings.warn(msg, FutureWarning)\n"
     ]
    },
    {
     "data": {
      "text/plain": [
       "<AxesSubplot:xlabel='Laboratory2', ylabel='Density'>"
      ]
     },
     "execution_count": 92,
     "metadata": {},
     "output_type": "execute_result"
    },
    {
     "data": {
      "image/png": "[encoded data removed]",
      "text/plain": [
       "<Figure size 432x288 with 1 Axes>"
      ]
     },
     "metadata": {
      "needs_background": "light"
     },
     "output_type": "display_data"
    }
   ],
   "source": [
    "sns.distplot(df['Laboratory2'])"
   ]
  },
  {
   "cell_type": "code",
   "execution_count": 93,
   "metadata": {},
   "outputs": [
    {
     "name": "stderr",
     "output_type": "stream",
     "text": [
      "C:\\Users\\yugan\\anaconda3\\lib\\site-packages\\seaborn\\distributions.py:2551: FutureWarning: `distplot` is a deprecated function and will be removed in a future version. Please adapt your code to use either `displot` (a figure-level function with similar flexibility) or `histplot` (an axes-level function for histograms).\n",
      "  warnings.warn(msg, FutureWarning)\n"
     ]
    },
    {
     "data": {
      "text/plain": [
       "<AxesSubplot:xlabel='Laboratory3', ylabel='Density'>"
      ]
     },
     "execution_count": 93,
     "metadata": {},
     "output_type": "execute_result"
    },
    {
     "data": {
      "image/png": "[encoded data removed]",
      "text/plain": [
       "<Figure size 432x288 with 1 Axes>"
      ]
     },
     "metadata": {
      "needs_background": "light"
     },
     "output_type": "display_data"
    }
   ],
   "source": [
    "sns.distplot(df['Laboratory3'])"
   ]
  },
  {
   "cell_type": "code",
   "execution_count": 94,
   "metadata": {},
   "outputs": [
    {
     "name": "stderr",
     "output_type": "stream",
     "text": [
      "C:\\Users\\yugan\\anaconda3\\lib\\site-packages\\seaborn\\distributions.py:2551: FutureWarning: `distplot` is a deprecated function and will be removed in a future version. Please adapt your code to use either `displot` (a figure-level function with similar flexibility) or `histplot` (an axes-level function for histograms).\n",
      "  warnings.warn(msg, FutureWarning)\n"
     ]
    },
    {
     "data": {
      "text/plain": [
       "<AxesSubplot:xlabel='Laboratory4', ylabel='Density'>"
      ]
     },
     "execution_count": 94,
     "metadata": {},
     "output_type": "execute_result"
    },
    {
     "data": {
      "image/png": "[encoded data removed]",
      "text/plain": [
       "<Figure size 432x288 with 1 Axes>"
      ]
     },
     "metadata": {
      "needs_background": "light"
     },
     "output_type": "display_data"
    }
   ],
   "source": [
    "sns.distplot(df['Laboratory4'])"
   ]
  },
  {
   "cell_type": "code",
   "execution_count": 96,
   "metadata": {},
   "outputs": [
    {
     "data": {
      "image/png": "[encoded data removed]",
      "text/plain": [
       "<Figure size 432x288 with 1 Axes>"
      ]
     },
     "metadata": {
      "needs_background": "light"
     },
     "output_type": "display_data"
    }
   ],
   "source": [
    "model=smf.ols(\"Laboratory2~Laboratory1\",data=df).fit()\n",
    "sns.regplot(x='Laboratory2',y='Laboratory1',data=df);"
   ]
  },
  {
   "cell_type": "code",
   "execution_count": 97,
   "metadata": {},
   "outputs": [
    {
     "data": {
      "image/png": "[encoded data removed]",
      "text/plain": [
       "<Figure size 432x288 with 1 Axes>"
      ]
     },
     "metadata": {
      "needs_background": "light"
     },
     "output_type": "display_data"
    }
   ],
   "source": [
    "model=smf.ols(\"Laboratory3~Laboratory1\",data=df).fit()\n",
    "sns.regplot(x='Laboratory3',y='Laboratory1',data=df);"
   ]
  },
  {
   "cell_type": "code",
   "execution_count": 98,
   "metadata": {},
   "outputs": [
    {
     "data": {
      "image/png": "[encoded data removed]",
      "text/plain": [
       "<Figure size 432x288 with 1 Axes>"
      ]
     },
     "metadata": {
      "needs_background": "light"
     },
     "output_type": "display_data"
    }
   ],
   "source": [
    "model=smf.ols(\"Laboratory4~Laboratory1\",data=df).fit()\n",
    "sns.regplot(x='Laboratory4',y='Laboratory1',data=df);"
   ]
  },
  {
   "cell_type": "code",
   "execution_count": 99,
   "metadata": {},
   "outputs": [
    {
     "data": {
      "text/plain": [
       "Intercept      4.295356e-12\n",
       "Laboratory1    3.154267e-01\n",
       "dtype: float64"
      ]
     },
     "execution_count": 99,
     "metadata": {},
     "output_type": "execute_result"
    }
   ],
   "source": [
    "model.pvalues"
   ]
  },
  {
   "cell_type": "code",
   "execution_count": 100,
   "metadata": {},
   "outputs": [
    {
     "data": {
      "image/png": "[encoded data removed]",
      "text/plain": [
       "<Figure size 432x288 with 1 Axes>"
      ]
     },
     "metadata": {
      "needs_background": "light"
     },
     "output_type": "display_data"
    }
   ],
   "source": [
    "model=smf.ols(\"Laboratory1~Laboratory2\",data=df).fit()\n",
    "sns.regplot(x='Laboratory1',y='Laboratory2',data=df);"
   ]
  },
  {
   "cell_type": "code",
   "execution_count": 101,
   "metadata": {},
   "outputs": [
    {
     "data": {
      "image/png": "[encoded data removed]",
      "text/plain": [
       "<Figure size 432x288 with 1 Axes>"
      ]
     },
     "metadata": {
      "needs_background": "light"
     },
     "output_type": "display_data"
    }
   ],
   "source": [
    "model=smf.ols(\"Laboratory3~Laboratory2\",data=df).fit()\n",
    "sns.regplot(x='Laboratory3',y='Laboratory2',data=df);"
   ]
  },
  {
   "cell_type": "code",
   "execution_count": 102,
   "metadata": {},
   "outputs": [
    {
     "data": {
      "image/png": "[encoded data removed]",
      "text/plain": [
       "<Figure size 432x288 with 1 Axes>"
      ]
     },
     "metadata": {
      "needs_background": "light"
     },
     "output_type": "display_data"
    }
   ],
   "source": [
    "model=smf.ols(\"Laboratory4~Laboratory2\",data=df).fit()\n",
    "sns.regplot(x='Laboratory4',y='Laboratory2',data=df);"
   ]
  },
  {
   "cell_type": "code",
   "execution_count": 103,
   "metadata": {},
   "outputs": [
    {
     "data": {
      "text/plain": [
       "Intercept      1.883596e-15\n",
       "Laboratory2    5.002959e-01\n",
       "dtype: float64"
      ]
     },
     "execution_count": 103,
     "metadata": {},
     "output_type": "execute_result"
    }
   ],
   "source": [
    "model.pvalues"
   ]
  },
  {
   "cell_type": "code",
   "execution_count": 104,
   "metadata": {},
   "outputs": [
    {
     "data": {
      "image/png": "[encoded data removed]",
      "text/plain": [
       "<Figure size 432x288 with 1 Axes>"
      ]
     },
     "metadata": {
      "needs_background": "light"
     },
     "output_type": "display_data"
    }
   ],
   "source": [
    "model=smf.ols(\"Laboratory1~Laboratory3\",data=df).fit()\n",
    "sns.regplot(x='Laboratory1',y='Laboratory3',data=df);"
   ]
  },
  {
   "cell_type": "code",
   "execution_count": 105,
   "metadata": {},
   "outputs": [
    {
     "data": {
      "image/png": "[encoded data removed]",
      "text/plain": [
       "<Figure size 432x288 with 1 Axes>"
      ]
     },
     "metadata": {
      "needs_background": "light"
     },
     "output_type": "display_data"
    }
   ],
   "source": [
    "model=smf.ols(\"Laboratory2~Laboratory3\",data=df).fit()\n",
    "sns.regplot(x='Laboratory2',y='Laboratory3',data=df);"
   ]
  },
  {
   "cell_type": "code",
   "execution_count": 106,
   "metadata": {},
   "outputs": [
    {
     "data": {
      "image/png": "[encoded data removed]",
      "text/plain": [
       "<Figure size 432x288 with 1 Axes>"
      ]
     },
     "metadata": {
      "needs_background": "light"
     },
     "output_type": "display_data"
    }
   ],
   "source": [
    "model=smf.ols(\"Laboratory4~Laboratory3\",data=df).fit()\n",
    "sns.regplot(x='Laboratory4',y='Laboratory3',data=df);"
   ]
  },
  {
   "cell_type": "code",
   "execution_count": 107,
   "metadata": {},
   "outputs": [
    {
     "data": {
      "text/plain": [
       "Intercept      3.470334e-20\n",
       "Laboratory3    1.730004e-01\n",
       "dtype: float64"
      ]
     },
     "execution_count": 107,
     "metadata": {},
     "output_type": "execute_result"
    }
   ],
   "source": [
    "model.pvalues"
   ]
  },
  {
   "cell_type": "code",
   "execution_count": 108,
   "metadata": {},
   "outputs": [
    {
     "data": {
      "image/png": "[encoded data removed]",
      "text/plain": [
       "<Figure size 432x288 with 1 Axes>"
      ]
     },
     "metadata": {
      "needs_background": "light"
     },
     "output_type": "display_data"
    }
   ],
   "source": [
    "model=smf.ols(\"Laboratory1~Laboratory4\",data=df).fit()\n",
    "sns.regplot(x='Laboratory1',y='Laboratory4',data=df);"
   ]
  },
  {
   "cell_type": "code",
   "execution_count": 109,
   "metadata": {},
   "outputs": [
    {
     "data": {
      "image/png": "[encoded data removed]",
      "text/plain": [
       "<Figure size 432x288 with 1 Axes>"
      ]
     },
     "metadata": {
      "needs_background": "light"
     },
     "output_type": "display_data"
    }
   ],
   "source": [
    "model=smf.ols(\"Laboratory2~Laboratory4\",data=df).fit()\n",
    "sns.regplot(x='Laboratory2',y='Laboratory4',data=df);"
   ]
  },
  {
   "cell_type": "code",
   "execution_count": 110,
   "metadata": {},
   "outputs": [
    {
     "data": {
      "image/png": "[encoded data removed]",
      "text/plain": [
       "<Figure size 432x288 with 1 Axes>"
      ]
     },
     "metadata": {
      "needs_background": "light"
     },
     "output_type": "display_data"
    }
   ],
   "source": [
    "model=smf.ols(\"Laboratory3~Laboratory4\",data=df).fit()\n",
    "sns.regplot(x='Laboratory3',y='Laboratory4',data=df);"
   ]
  },
  {
   "cell_type": "code",
   "execution_count": 111,
   "metadata": {},
   "outputs": [
    {
     "data": {
      "text/plain": [
       "Intercept      1.035610e-25\n",
       "Laboratory4    1.730004e-01\n",
       "dtype: float64"
      ]
     },
     "execution_count": 111,
     "metadata": {},
     "output_type": "execute_result"
    }
   ],
   "source": [
    "model.pvalues"
   ]
  },
  {
   "cell_type": "code",
   "execution_count": null,
   "metadata": {},
   "outputs": [],
   "source": []
  }
 ],
 "metadata": {
  "kernelspec": {
   "display_name": "Python 3",
   "language": "python",
   "name": "python3"
  },
  "language_info": {
   "codemirror_mode": {
    "name": "ipython",
    "version": 3
   },
   "file_extension": ".py",
   "mimetype": "text/x-python",
   "name": "python",
   "nbconvert_exporter": "python",
   "pygments_lexer": "ipython3",
   "version": "3.8.5"
  }
 },
 "nbformat": 4,
 "nbformat_minor": 4
}
